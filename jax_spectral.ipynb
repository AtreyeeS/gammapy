{
 "cells": [
  {
   "cell_type": "code",
   "execution_count": 1,
   "id": "2b3a52a2-3282-456e-9ce8-27fe8f7c38ff",
   "metadata": {},
   "outputs": [],
   "source": [
    "from gammapy.modeling.models import *\n",
    "import astropy.units as u\n",
    "from gammapy.maps import *\n",
    "import jax.numpy as np"
   ]
  },
  {
   "cell_type": "code",
   "execution_count": 2,
   "id": "f249e60e-2c8b-4601-87cd-66cd65626cf7",
   "metadata": {},
   "outputs": [],
   "source": [
    "p = PowerLawSpectralModel()"
   ]
  },
  {
   "cell_type": "code",
   "execution_count": 3,
   "id": "6b6d4cb2-2f8e-4f84-9f8c-10951f309070",
   "metadata": {},
   "outputs": [],
   "source": [
    "energy_true = MapAxis.from_edges(\n",
    "    np.logspace(-1, 1, 5), unit=\"TeV\", name=\"energy_true\", interp=\"log\"\n",
    ")"
   ]
  },
  {
   "cell_type": "code",
   "execution_count": 4,
   "id": "c48ad269-c687-478d-b96a-fce405309634",
   "metadata": {},
   "outputs": [
    {
     "data": {
      "text/latex": [
       "$[0.17782794,~0.56234132,~1.7782794,~5.6234133] \\; \\mathrm{TeV}$"
      ],
      "text/plain": [
       "<Quantity [0.17782794, 0.56234132, 1.77827942, 5.62341329] TeV>"
      ]
     },
     "execution_count": 4,
     "metadata": {},
     "output_type": "execute_result"
    }
   ],
   "source": [
    "energy_true.center"
   ]
  },
  {
   "cell_type": "code",
   "execution_count": 5,
   "id": "695b9b39-3618-4a51-859f-54e1e5808291",
   "metadata": {},
   "outputs": [],
   "source": [
    "geom = RegionGeom.create(region=None, axes=[energy_true])"
   ]
  },
  {
   "cell_type": "code",
   "execution_count": 6,
   "id": "8c828002-82a8-4e20-9342-2800b8768ce3",
   "metadata": {},
   "outputs": [
    {
     "data": {
      "text/plain": [
       "Array([1.0000000e-12, 1.1111111e-13], dtype=float32)"
      ]
     },
     "execution_count": 6,
     "metadata": {},
     "output_type": "execute_result"
    }
   ],
   "source": [
    "p.evaluate([1.0, 3.0]*u.TeV, p.index.quantity, p.amplitude.value, p.reference.quantity)"
   ]
  },
  {
   "cell_type": "code",
   "execution_count": 7,
   "id": "77d21742-79e5-48f8-9c09-3cbe2809916d",
   "metadata": {},
   "outputs": [
    {
     "data": {
      "text/plain": [
       "Array([3.1622777e-11, 3.1622775e-12, 3.1622776e-13, 3.1622779e-14],      dtype=float32)"
      ]
     },
     "execution_count": 7,
     "metadata": {},
     "output_type": "execute_result"
    }
   ],
   "source": [
    "p(energy_true.center)"
   ]
  },
  {
   "cell_type": "code",
   "execution_count": 8,
   "id": "f09578d4-fcc4-4364-ac77-d212eaa12079",
   "metadata": {},
   "outputs": [],
   "source": [
    "sk = SkyModel(spectral_model=p, name=\"model\")"
   ]
  },
  {
   "cell_type": "code",
   "execution_count": 9,
   "id": "d8bca579-b655-4136-a189-9fd257a8cb98",
   "metadata": {},
   "outputs": [
    {
     "data": {
      "text/plain": [
       "Array([[[3.1622777e-11]],\n",
       "\n",
       "       [[3.1622775e-12]],\n",
       "\n",
       "       [[3.1622776e-13]],\n",
       "\n",
       "       [[3.1622779e-14]]], dtype=float32)"
      ]
     },
     "execution_count": 9,
     "metadata": {},
     "output_type": "execute_result"
    }
   ],
   "source": [
    "sk.evaluate_geom(geom)"
   ]
  },
  {
   "cell_type": "code",
   "execution_count": 10,
   "id": "903012b6-369e-402c-9987-3d7eda485d60",
   "metadata": {},
   "outputs": [
    {
     "data": {
      "text/plain": [
       "(Array([6.8377222e-12, 2.1622777e-12, 6.8377221e-13, 2.1622777e-13],      dtype=float32),\n",
       " Unit(\"1 / (s cm2)\"))"
      ]
     },
     "execution_count": 10,
     "metadata": {},
     "output_type": "execute_result"
    }
   ],
   "source": [
    "p.integral(energy_true.edges[0:-1], energy_true.edges[1:])"
   ]
  },
  {
   "cell_type": "code",
   "execution_count": 11,
   "id": "dc494e5d-9b86-4f22-95d3-728a420a0ec7",
   "metadata": {},
   "outputs": [
    {
     "data": {
      "text/html": [
       "<pre>RegionNDMap\n",
       "\n",
       "\tgeom  : RegionGeom \n",
       " \taxes  : [&#x27;lon&#x27;, &#x27;lat&#x27;, &#x27;energy_true&#x27;]\n",
       "\tshape : (1, 1, 4)\n",
       "\tndim  : 3\n",
       "\tunit  : 1 / (s cm2)\n",
       "\tdtype : float32\n",
       "</pre>"
      ],
      "text/plain": [
       "<gammapy.maps.region.ndmap.RegionNDMap at 0x146931700>"
      ]
     },
     "execution_count": 11,
     "metadata": {},
     "output_type": "execute_result"
    }
   ],
   "source": [
    "sk.integrate_geom(geom)"
   ]
  },
  {
   "cell_type": "code",
   "execution_count": 12,
   "id": "cb5f247e-5aeb-4ce4-8fb9-73e2ddf82516",
   "metadata": {},
   "outputs": [],
   "source": [
    "from gammapy.datasets import *"
   ]
  },
  {
   "cell_type": "code",
   "execution_count": 13,
   "id": "41ddc39c-d6a3-48d6-85d7-2063d9adae8b",
   "metadata": {},
   "outputs": [],
   "source": [
    "dataset = SpectrumDatasetOnOff.read(\n",
    "     \"$GAMMAPY_DATA/PKS2155-steady/pks2155-304_steady.fits.gz\", name=\"dataset\"\n",
    " )"
   ]
  },
  {
   "cell_type": "code",
   "execution_count": 14,
   "id": "f94c3906-862b-4deb-8b4f-db2ac5c68026",
   "metadata": {},
   "outputs": [
    {
     "data": {
      "text/html": [
       "<pre>RegionNDMap\n",
       "\n",
       "\tgeom  : RegionGeom \n",
       " \taxes  : [&#x27;lon&#x27;, &#x27;lat&#x27;, &#x27;energy_true&#x27;]\n",
       "\tshape : (1, 1, 25)\n",
       "\tndim  : 3\n",
       "\tunit  : m2 s\n",
       "\tdtype : float32\n",
       "</pre>"
      ],
      "text/plain": [
       "<gammapy.maps.region.ndmap.RegionNDMap at 0x150351fd0>"
      ]
     },
     "execution_count": 14,
     "metadata": {},
     "output_type": "execute_result"
    }
   ],
   "source": [
    "dataset.exposure"
   ]
  },
  {
   "cell_type": "code",
   "execution_count": 15,
   "id": "94c482aa-c69e-45e2-869a-c8484d61ed66",
   "metadata": {},
   "outputs": [],
   "source": [
    "dataset.models = Models([sk])"
   ]
  },
  {
   "cell_type": "code",
   "execution_count": 16,
   "id": "6af8595a-fd6c-4353-a971-bc731ad47322",
   "metadata": {},
   "outputs": [
    {
     "name": "stderr",
     "output_type": "stream",
     "text": [
      "/Users/atreyeesinha/anaconda3/envs/gammapy-dev/lib/python3.9/site-packages/jax/_src/numpy/array_methods.py:68: UserWarning: Explicitly requested dtype float64 requested in astype is not available, and will be truncated to dtype float32. To enable more dtypes, set the jax_enable_x64 configuration option or the JAX_ENABLE_X64 shell environment variable. See https://github.com/google/jax#current-gotchas for more.\n",
      "  return lax_numpy.astype(arr, dtype, copy=copy, device=device)\n",
      "/Users/atreyeesinha/anaconda3/envs/gammapy-dev/lib/python3.9/site-packages/jax/_src/numpy/array_methods.py:68: UserWarning: Explicitly requested dtype float64 requested in astype is not available, and will be truncated to dtype float32. To enable more dtypes, set the jax_enable_x64 configuration option or the JAX_ENABLE_X64 shell environment variable. See https://github.com/google/jax#current-gotchas for more.\n",
      "  return lax_numpy.astype(arr, dtype, copy=copy, device=device)\n",
      "/Users/atreyeesinha/anaconda3/envs/gammapy-dev/lib/python3.9/site-packages/jax/_src/numpy/array_methods.py:68: UserWarning: Explicitly requested dtype float64 requested in astype is not available, and will be truncated to dtype float32. To enable more dtypes, set the jax_enable_x64 configuration option or the JAX_ENABLE_X64 shell environment variable. See https://github.com/google/jax#current-gotchas for more.\n",
      "  return lax_numpy.astype(arr, dtype, copy=copy, device=device)\n"
     ]
    },
    {
     "data": {
      "text/html": [
       "<pre>RegionNDMap\n",
       "\n",
       "\tgeom  : RegionGeom \n",
       " \taxes  : [&#x27;lon&#x27;, &#x27;lat&#x27;, &#x27;energy&#x27;]\n",
       "\tshape : (1, 1, 10)\n",
       "\tndim  : 3\n",
       "\tunit  : \n",
       "\tdtype : float32\n",
       "</pre>"
      ],
      "text/plain": [
       "<gammapy.maps.region.ndmap.RegionNDMap at 0x150fdd970>"
      ]
     },
     "execution_count": 16,
     "metadata": {},
     "output_type": "execute_result"
    }
   ],
   "source": [
    "dataset.npred()"
   ]
  },
  {
   "cell_type": "code",
   "execution_count": 17,
   "id": "de83b81e-67d5-49e7-aee5-db611307fcfa",
   "metadata": {},
   "outputs": [],
   "source": [
    "flux = dataset.evaluators[\"model\"].compute_flux_psf_convolved()"
   ]
  },
  {
   "cell_type": "code",
   "execution_count": 18,
   "id": "48b3906a-59ff-4189-8c10-546c062b8caa",
   "metadata": {},
   "outputs": [],
   "source": [
    "app_exp = dataset.evaluators[\"model\"].apply_exposure(flux)"
   ]
  },
  {
   "cell_type": "code",
   "execution_count": 19,
   "id": "290f377b-e6f0-46ec-8f4a-5af6194d654f",
   "metadata": {},
   "outputs": [
    {
     "data": {
      "text/plain": [
       "Array([[[0.       ]],\n",
       "\n",
       "       [[0.       ]],\n",
       "\n",
       "       [[4.5555506]],\n",
       "\n",
       "       [[5.987772 ]],\n",
       "\n",
       "       [[4.7940173]],\n",
       "\n",
       "       [[3.737797 ]],\n",
       "\n",
       "       [[2.7315361]],\n",
       "\n",
       "       [[1.8784888]],\n",
       "\n",
       "       [[1.2557182]],\n",
       "\n",
       "       [[0.8052822]]], dtype=float32)"
      ]
     },
     "execution_count": 19,
     "metadata": {},
     "output_type": "execute_result"
    }
   ],
   "source": [
    "dataset.evaluators[\"model\"].apply_edisp(app_exp).data"
   ]
  },
  {
   "cell_type": "code",
   "execution_count": 20,
   "id": "f8aaf058-a28d-4089-b43b-989e205b87dc",
   "metadata": {},
   "outputs": [
    {
     "name": "stderr",
     "output_type": "stream",
     "text": [
      "/Users/atreyeesinha/anaconda3/envs/gammapy-dev/lib/python3.9/site-packages/jax/_src/numpy/array_methods.py:68: UserWarning: Explicitly requested dtype float64 requested in astype is not available, and will be truncated to dtype float32. To enable more dtypes, set the jax_enable_x64 configuration option or the JAX_ENABLE_X64 shell environment variable. See https://github.com/google/jax#current-gotchas for more.\n",
      "  return lax_numpy.astype(arr, dtype, copy=copy, device=device)\n"
     ]
    },
    {
     "data": {
      "text/plain": [
       "Array([[[0.       ]],\n",
       "\n",
       "       [[0.       ]],\n",
       "\n",
       "       [[4.5555506]],\n",
       "\n",
       "       [[5.987772 ]],\n",
       "\n",
       "       [[4.7940173]],\n",
       "\n",
       "       [[3.737797 ]],\n",
       "\n",
       "       [[2.7315361]],\n",
       "\n",
       "       [[1.8784888]],\n",
       "\n",
       "       [[1.2557182]],\n",
       "\n",
       "       [[0.8052822]]], dtype=float32)"
      ]
     },
     "execution_count": 20,
     "metadata": {},
     "output_type": "execute_result"
    }
   ],
   "source": [
    "dataset.npred_signal().data"
   ]
  },
  {
   "cell_type": "code",
   "execution_count": 21,
   "id": "d9e60a00-d0cd-49d0-932c-879c7bcd26dc",
   "metadata": {},
   "outputs": [
    {
     "name": "stderr",
     "output_type": "stream",
     "text": [
      "/Users/atreyeesinha/anaconda3/envs/gammapy-dev/lib/python3.9/site-packages/jax/_src/numpy/array_methods.py:68: UserWarning: Explicitly requested dtype float64 requested in astype is not available, and will be truncated to dtype float32. To enable more dtypes, set the jax_enable_x64 configuration option or the JAX_ENABLE_X64 shell environment variable. See https://github.com/google/jax#current-gotchas for more.\n",
      "  return lax_numpy.astype(arr, dtype, copy=copy, device=device)\n"
     ]
    },
    {
     "data": {
      "text/plain": [
       "Array([[[ 0.       ]],\n",
       "\n",
       "       [[ 0.       ]],\n",
       "\n",
       "       [[15.6100445]],\n",
       "\n",
       "       [[11.376652 ]],\n",
       "\n",
       "       [[ 6.407409 ]],\n",
       "\n",
       "       [[ 3.6114166]],\n",
       "\n",
       "       [[ 2.1609063]],\n",
       "\n",
       "       [[ 1.0000001]],\n",
       "\n",
       "       [[ 0.7991466]],\n",
       "\n",
       "       [[ 0.       ]]], dtype=float32)"
      ]
     },
     "execution_count": 21,
     "metadata": {},
     "output_type": "execute_result"
    }
   ],
   "source": [
    "dataset.npred_background().data"
   ]
  },
  {
   "cell_type": "code",
   "execution_count": 22,
   "id": "5aa4d03c-c650-435a-aa67-7b0d881a706b",
   "metadata": {},
   "outputs": [
    {
     "name": "stderr",
     "output_type": "stream",
     "text": [
      "/Users/atreyeesinha/anaconda3/envs/gammapy-dev/lib/python3.9/site-packages/jax/_src/numpy/array_methods.py:68: UserWarning: Explicitly requested dtype float64 requested in astype is not available, and will be truncated to dtype float32. To enable more dtypes, set the jax_enable_x64 configuration option or the JAX_ENABLE_X64 shell environment variable. See https://github.com/google/jax#current-gotchas for more.\n",
      "  return lax_numpy.astype(arr, dtype, copy=copy, device=device)\n",
      "/Users/atreyeesinha/anaconda3/envs/gammapy-dev/lib/python3.9/site-packages/jax/_src/numpy/array_methods.py:68: UserWarning: Explicitly requested dtype float64 requested in astype is not available, and will be truncated to dtype float32. To enable more dtypes, set the jax_enable_x64 configuration option or the JAX_ENABLE_X64 shell environment variable. See https://github.com/google/jax#current-gotchas for more.\n",
      "  return lax_numpy.astype(arr, dtype, copy=copy, device=device)\n",
      "/Users/atreyeesinha/anaconda3/envs/gammapy-dev/lib/python3.9/site-packages/jax/_src/numpy/array_methods.py:68: UserWarning: Explicitly requested dtype float64 requested in astype is not available, and will be truncated to dtype float32. To enable more dtypes, set the jax_enable_x64 configuration option or the JAX_ENABLE_X64 shell environment variable. See https://github.com/google/jax#current-gotchas for more.\n",
      "  return lax_numpy.astype(arr, dtype, copy=copy, device=device)\n"
     ]
    },
    {
     "data": {
      "text/plain": [
       "Array([[[ 0.       ]],\n",
       "\n",
       "       [[ 0.       ]],\n",
       "\n",
       "       [[35.775642 ]],\n",
       "\n",
       "       [[28.741076 ]],\n",
       "\n",
       "       [[17.608835 ]],\n",
       "\n",
       "       [[10.96063  ]],\n",
       "\n",
       "       [[ 7.053349 ]],\n",
       "\n",
       "       [[ 3.878489 ]],\n",
       "\n",
       "       [[ 2.8540115]],\n",
       "\n",
       "       [[ 0.8052822]]], dtype=float32)"
      ]
     },
     "execution_count": 22,
     "metadata": {},
     "output_type": "execute_result"
    }
   ],
   "source": [
    "dataset.npred().data"
   ]
  },
  {
   "cell_type": "code",
   "execution_count": 23,
   "id": "d13e086a-fd6f-48dc-b4bc-53d3ad3f2fa0",
   "metadata": {},
   "outputs": [],
   "source": [
    "from gammapy.modeling import Fit"
   ]
  },
  {
   "cell_type": "code",
   "execution_count": 24,
   "id": "62e9acb0-8b75-4e97-a1d8-3069d6818e98",
   "metadata": {},
   "outputs": [],
   "source": [
    "fit = Fit()"
   ]
  },
  {
   "cell_type": "code",
   "execution_count": 29,
   "id": "e99a3a5c-6179-49fe-9bb2-3580f4b25078",
   "metadata": {},
   "outputs": [],
   "source": [
    "p.reference.quantity = 1000 * u.GeV"
   ]
  },
  {
   "cell_type": "code",
   "execution_count": 30,
   "id": "4ea46631-9552-4a2c-a228-69f39adb0bca",
   "metadata": {},
   "outputs": [
    {
     "name": "stderr",
     "output_type": "stream",
     "text": [
      "/Users/atreyeesinha/anaconda3/envs/gammapy-dev/lib/python3.9/site-packages/jax/_src/numpy/array_methods.py:68: UserWarning: Explicitly requested dtype float64 requested in astype is not available, and will be truncated to dtype float32. To enable more dtypes, set the jax_enable_x64 configuration option or the JAX_ENABLE_X64 shell environment variable. See https://github.com/google/jax#current-gotchas for more.\n",
      "  return lax_numpy.astype(arr, dtype, copy=copy, device=device)\n",
      "/Users/atreyeesinha/anaconda3/envs/gammapy-dev/lib/python3.9/site-packages/jax/_src/numpy/array_methods.py:68: UserWarning: Explicitly requested dtype float64 requested in astype is not available, and will be truncated to dtype float32. To enable more dtypes, set the jax_enable_x64 configuration option or the JAX_ENABLE_X64 shell environment variable. See https://github.com/google/jax#current-gotchas for more.\n",
      "  return lax_numpy.astype(arr, dtype, copy=copy, device=device)\n",
      "/Users/atreyeesinha/anaconda3/envs/gammapy-dev/lib/python3.9/site-packages/jax/_src/numpy/array_methods.py:68: UserWarning: Explicitly requested dtype float64 requested in astype is not available, and will be truncated to dtype float32. To enable more dtypes, set the jax_enable_x64 configuration option or the JAX_ENABLE_X64 shell environment variable. See https://github.com/google/jax#current-gotchas for more.\n",
      "  return lax_numpy.astype(arr, dtype, copy=copy, device=device)\n",
      "/Users/atreyeesinha/anaconda3/envs/gammapy-dev/lib/python3.9/site-packages/jax/_src/numpy/array_methods.py:68: UserWarning: Explicitly requested dtype float64 requested in astype is not available, and will be truncated to dtype float32. To enable more dtypes, set the jax_enable_x64 configuration option or the JAX_ENABLE_X64 shell environment variable. See https://github.com/google/jax#current-gotchas for more.\n",
      "  return lax_numpy.astype(arr, dtype, copy=copy, device=device)\n",
      "/Users/atreyeesinha/anaconda3/envs/gammapy-dev/lib/python3.9/site-packages/jax/_src/numpy/array_methods.py:68: UserWarning: Explicitly requested dtype float64 requested in astype is not available, and will be truncated to dtype float32. To enable more dtypes, set the jax_enable_x64 configuration option or the JAX_ENABLE_X64 shell environment variable. See https://github.com/google/jax#current-gotchas for more.\n",
      "  return lax_numpy.astype(arr, dtype, copy=copy, device=device)\n",
      "/Users/atreyeesinha/anaconda3/envs/gammapy-dev/lib/python3.9/site-packages/jax/_src/numpy/array_methods.py:68: UserWarning: Explicitly requested dtype float64 requested in astype is not available, and will be truncated to dtype float32. To enable more dtypes, set the jax_enable_x64 configuration option or the JAX_ENABLE_X64 shell environment variable. See https://github.com/google/jax#current-gotchas for more.\n",
      "  return lax_numpy.astype(arr, dtype, copy=copy, device=device)\n",
      "/Users/atreyeesinha/anaconda3/envs/gammapy-dev/lib/python3.9/site-packages/jax/_src/numpy/array_methods.py:68: UserWarning: Explicitly requested dtype float64 requested in astype is not available, and will be truncated to dtype float32. To enable more dtypes, set the jax_enable_x64 configuration option or the JAX_ENABLE_X64 shell environment variable. See https://github.com/google/jax#current-gotchas for more.\n",
      "  return lax_numpy.astype(arr, dtype, copy=copy, device=device)\n",
      "/Users/atreyeesinha/anaconda3/envs/gammapy-dev/lib/python3.9/site-packages/jax/_src/numpy/array_methods.py:68: UserWarning: Explicitly requested dtype float64 requested in astype is not available, and will be truncated to dtype float32. To enable more dtypes, set the jax_enable_x64 configuration option or the JAX_ENABLE_X64 shell environment variable. See https://github.com/google/jax#current-gotchas for more.\n",
      "  return lax_numpy.astype(arr, dtype, copy=copy, device=device)\n",
      "/Users/atreyeesinha/anaconda3/envs/gammapy-dev/lib/python3.9/site-packages/jax/_src/numpy/array_methods.py:68: UserWarning: Explicitly requested dtype float64 requested in astype is not available, and will be truncated to dtype float32. To enable more dtypes, set the jax_enable_x64 configuration option or the JAX_ENABLE_X64 shell environment variable. See https://github.com/google/jax#current-gotchas for more.\n",
      "  return lax_numpy.astype(arr, dtype, copy=copy, device=device)\n",
      "/Users/atreyeesinha/anaconda3/envs/gammapy-dev/lib/python3.9/site-packages/jax/_src/numpy/array_methods.py:68: UserWarning: Explicitly requested dtype float64 requested in astype is not available, and will be truncated to dtype float32. To enable more dtypes, set the jax_enable_x64 configuration option or the JAX_ENABLE_X64 shell environment variable. See https://github.com/google/jax#current-gotchas for more.\n",
      "  return lax_numpy.astype(arr, dtype, copy=copy, device=device)\n",
      "/Users/atreyeesinha/anaconda3/envs/gammapy-dev/lib/python3.9/site-packages/jax/_src/numpy/array_methods.py:68: UserWarning: Explicitly requested dtype float64 requested in astype is not available, and will be truncated to dtype float32. To enable more dtypes, set the jax_enable_x64 configuration option or the JAX_ENABLE_X64 shell environment variable. See https://github.com/google/jax#current-gotchas for more.\n",
      "  return lax_numpy.astype(arr, dtype, copy=copy, device=device)\n",
      "/Users/atreyeesinha/anaconda3/envs/gammapy-dev/lib/python3.9/site-packages/jax/_src/numpy/array_methods.py:68: UserWarning: Explicitly requested dtype float64 requested in astype is not available, and will be truncated to dtype float32. To enable more dtypes, set the jax_enable_x64 configuration option or the JAX_ENABLE_X64 shell environment variable. See https://github.com/google/jax#current-gotchas for more.\n",
      "  return lax_numpy.astype(arr, dtype, copy=copy, device=device)\n",
      "/Users/atreyeesinha/anaconda3/envs/gammapy-dev/lib/python3.9/site-packages/jax/_src/numpy/array_methods.py:68: UserWarning: Explicitly requested dtype float64 requested in astype is not available, and will be truncated to dtype float32. To enable more dtypes, set the jax_enable_x64 configuration option or the JAX_ENABLE_X64 shell environment variable. See https://github.com/google/jax#current-gotchas for more.\n",
      "  return lax_numpy.astype(arr, dtype, copy=copy, device=device)\n",
      "/Users/atreyeesinha/anaconda3/envs/gammapy-dev/lib/python3.9/site-packages/jax/_src/numpy/array_methods.py:68: UserWarning: Explicitly requested dtype float64 requested in astype is not available, and will be truncated to dtype float32. To enable more dtypes, set the jax_enable_x64 configuration option or the JAX_ENABLE_X64 shell environment variable. See https://github.com/google/jax#current-gotchas for more.\n",
      "  return lax_numpy.astype(arr, dtype, copy=copy, device=device)\n",
      "/Users/atreyeesinha/anaconda3/envs/gammapy-dev/lib/python3.9/site-packages/jax/_src/numpy/array_methods.py:68: UserWarning: Explicitly requested dtype float64 requested in astype is not available, and will be truncated to dtype float32. To enable more dtypes, set the jax_enable_x64 configuration option or the JAX_ENABLE_X64 shell environment variable. See https://github.com/google/jax#current-gotchas for more.\n",
      "  return lax_numpy.astype(arr, dtype, copy=copy, device=device)\n",
      "/Users/atreyeesinha/anaconda3/envs/gammapy-dev/lib/python3.9/site-packages/jax/_src/numpy/array_methods.py:68: UserWarning: Explicitly requested dtype float64 requested in astype is not available, and will be truncated to dtype float32. To enable more dtypes, set the jax_enable_x64 configuration option or the JAX_ENABLE_X64 shell environment variable. See https://github.com/google/jax#current-gotchas for more.\n",
      "  return lax_numpy.astype(arr, dtype, copy=copy, device=device)\n",
      "/Users/atreyeesinha/anaconda3/envs/gammapy-dev/lib/python3.9/site-packages/jax/_src/numpy/array_methods.py:68: UserWarning: Explicitly requested dtype float64 requested in astype is not available, and will be truncated to dtype float32. To enable more dtypes, set the jax_enable_x64 configuration option or the JAX_ENABLE_X64 shell environment variable. See https://github.com/google/jax#current-gotchas for more.\n",
      "  return lax_numpy.astype(arr, dtype, copy=copy, device=device)\n",
      "/Users/atreyeesinha/anaconda3/envs/gammapy-dev/lib/python3.9/site-packages/jax/_src/numpy/array_methods.py:68: UserWarning: Explicitly requested dtype float64 requested in astype is not available, and will be truncated to dtype float32. To enable more dtypes, set the jax_enable_x64 configuration option or the JAX_ENABLE_X64 shell environment variable. See https://github.com/google/jax#current-gotchas for more.\n",
      "  return lax_numpy.astype(arr, dtype, copy=copy, device=device)\n",
      "/Users/atreyeesinha/anaconda3/envs/gammapy-dev/lib/python3.9/site-packages/jax/_src/numpy/array_methods.py:68: UserWarning: Explicitly requested dtype float64 requested in astype is not available, and will be truncated to dtype float32. To enable more dtypes, set the jax_enable_x64 configuration option or the JAX_ENABLE_X64 shell environment variable. See https://github.com/google/jax#current-gotchas for more.\n",
      "  return lax_numpy.astype(arr, dtype, copy=copy, device=device)\n",
      "/Users/atreyeesinha/anaconda3/envs/gammapy-dev/lib/python3.9/site-packages/jax/_src/numpy/array_methods.py:68: UserWarning: Explicitly requested dtype float64 requested in astype is not available, and will be truncated to dtype float32. To enable more dtypes, set the jax_enable_x64 configuration option or the JAX_ENABLE_X64 shell environment variable. See https://github.com/google/jax#current-gotchas for more.\n",
      "  return lax_numpy.astype(arr, dtype, copy=copy, device=device)\n",
      "/Users/atreyeesinha/anaconda3/envs/gammapy-dev/lib/python3.9/site-packages/jax/_src/numpy/array_methods.py:68: UserWarning: Explicitly requested dtype float64 requested in astype is not available, and will be truncated to dtype float32. To enable more dtypes, set the jax_enable_x64 configuration option or the JAX_ENABLE_X64 shell environment variable. See https://github.com/google/jax#current-gotchas for more.\n",
      "  return lax_numpy.astype(arr, dtype, copy=copy, device=device)\n",
      "/Users/atreyeesinha/anaconda3/envs/gammapy-dev/lib/python3.9/site-packages/jax/_src/numpy/array_methods.py:68: UserWarning: Explicitly requested dtype float64 requested in astype is not available, and will be truncated to dtype float32. To enable more dtypes, set the jax_enable_x64 configuration option or the JAX_ENABLE_X64 shell environment variable. See https://github.com/google/jax#current-gotchas for more.\n",
      "  return lax_numpy.astype(arr, dtype, copy=copy, device=device)\n"
     ]
    }
   ],
   "source": [
    "result = fit.run([dataset])"
   ]
  },
  {
   "cell_type": "code",
   "execution_count": 31,
   "id": "0bdab324-32a0-4eb3-8841-a99ee5e789bc",
   "metadata": {},
   "outputs": [
    {
     "data": {
      "text/html": [
       "<div><i>Table length=3</i>\n",
       "<table id=\"table5676394672\" class=\"table-striped table-bordered table-condensed\">\n",
       "<thead><tr><th>model</th><th>type</th><th>name</th><th>value</th><th>unit</th><th>error</th><th>min</th><th>max</th><th>frozen</th><th>is_norm</th><th>link</th><th>prior</th></tr></thead>\n",
       "<thead><tr><th>str5</th><th>str1</th><th>str9</th><th>float64</th><th>str14</th><th>float64</th><th>float64</th><th>float64</th><th>bool</th><th>bool</th><th>str1</th><th>str1</th></tr></thead>\n",
       "<tr><td>model</td><td></td><td>index</td><td>3.4074e+00</td><td></td><td>2.745e-01</td><td>nan</td><td>nan</td><td>False</td><td>False</td><td></td><td></td></tr>\n",
       "<tr><td>model</td><td></td><td>amplitude</td><td>3.8516e-12</td><td>TeV-1 s-1 cm-2</td><td>5.308e-13</td><td>nan</td><td>nan</td><td>False</td><td>True</td><td></td><td></td></tr>\n",
       "<tr><td>model</td><td></td><td>reference</td><td>1.0000e+03</td><td>GeV</td><td>0.000e+00</td><td>nan</td><td>nan</td><td>True</td><td>False</td><td></td><td></td></tr>\n",
       "</table></div>"
      ],
      "text/plain": [
       "<Table length=3>\n",
       "model type    name     value         unit      ... frozen is_norm link prior\n",
       " str5 str1    str9    float64       str14      ...  bool    bool  str1  str1\n",
       "----- ---- --------- ---------- -------------- ... ------ ------- ---- -----\n",
       "model          index 3.4074e+00                ...  False   False           \n",
       "model      amplitude 3.8516e-12 TeV-1 s-1 cm-2 ...  False    True           \n",
       "model      reference 1.0000e+03            GeV ...   True   False           "
      ]
     },
     "execution_count": 31,
     "metadata": {},
     "output_type": "execute_result"
    }
   ],
   "source": [
    "result.models.to_parameters_table()"
   ]
  },
  {
   "cell_type": "code",
   "execution_count": 27,
   "id": "b59f11ec-504b-4524-828b-6253c037d785",
   "metadata": {},
   "outputs": [],
   "source": [
    "par = p.parameters[1]"
   ]
  },
  {
   "cell_type": "code",
   "execution_count": null,
   "id": "dfcf53c8-13f7-4dc0-9a39-a8ae450d0137",
   "metadata": {},
   "outputs": [],
   "source": []
  }
 ],
 "metadata": {
  "kernelspec": {
   "display_name": "Python 3 (ipykernel)",
   "language": "python",
   "name": "python3"
  },
  "language_info": {
   "codemirror_mode": {
    "name": "ipython",
    "version": 3
   },
   "file_extension": ".py",
   "mimetype": "text/x-python",
   "name": "python",
   "nbconvert_exporter": "python",
   "pygments_lexer": "ipython3",
   "version": "3.9.18"
  }
 },
 "nbformat": 4,
 "nbformat_minor": 5
}
