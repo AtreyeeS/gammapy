{
 "cells": [
  {
   "cell_type": "code",
   "execution_count": 3,
   "metadata": {},
   "outputs": [],
   "source": [
    "# Imports inside model.py\n",
    "from __future__ import absolute_import, division, print_function, unicode_literals\n",
    "import numpy as np\n",
    "import copy\n",
    "import astropy.units as u\n",
    "import operator\n",
    "from gammapy.utils.fitting import Parameters, Parameter\n",
    "from gammapy.utils.scripts import make_path\n",
    "from gammapy.maps import Map, MapAxis\n"
   ]
  },
  {
   "cell_type": "code",
   "execution_count": 4,
   "metadata": {},
   "outputs": [],
   "source": [
    "import numpy as np\n",
    "import astropy.units as u\n",
    "from astropy.coordinates import SkyCoord, Angle\n",
    "from gammapy.irf import (\n",
    "    EffectiveAreaTable2D,\n",
    "    EnergyDispersion2D,\n",
    "    EnergyDependentMultiGaussPSF,\n",
    "    Background3D,\n",
    ")\n",
    "from gammapy.maps import WcsGeom, MapAxis, WcsNDMap, Map\n",
    "from gammapy.spectrum.models import PowerLaw\n",
    "from gammapy.image.models import SkyGaussian\n",
    "from gammapy.cube.models import SkyModel, SkyModels\n",
    "from gammapy.cube import MapFit, MapEvaluator, PSFKernel\n",
    "from gammapy.cube import make_map_exposure_true_energy, make_map_background_irf"
   ]
  },
  {
   "cell_type": "code",
   "execution_count": 5,
   "metadata": {},
   "outputs": [],
   "source": [
    "import os\n",
    "import numpy as np\n",
    "import astropy.units as u\n",
    "from astropy.coordinates import SkyCoord\n",
    "from gammapy.extern.pathlib import Path\n",
    "from gammapy.data import DataStore\n",
    "from gammapy.irf import EnergyDispersion, make_mean_psf, make_mean_edisp\n",
    "from gammapy.maps import WcsGeom, MapAxis, Map, WcsNDMap\n",
    "from gammapy.cube import MapMaker, MapEvaluator, PSFKernel, MapFit\n",
    "from gammapy.cube.models import SkyModel, SkyDiffuseCube\n",
    "from gammapy.spectrum.models import PowerLaw, ExponentialCutoffPowerLaw\n",
    "from gammapy.image.models import SkyGaussian, SkyPointSource\n",
    "from regions import CircleSkyRegion"
   ]
  },
  {
   "cell_type": "markdown",
   "metadata": {},
   "source": [
    "### Class for background model"
   ]
  },
  {
   "cell_type": "code",
   "execution_count": 6,
   "metadata": {},
   "outputs": [],
   "source": [
    "from gammapy.cube.models import SkyModelBase"
   ]
  },
  {
   "cell_type": "code",
   "execution_count": 7,
   "metadata": {},
   "outputs": [],
   "source": [
    "class BackgroundCube(SkyModelBase):\n",
    "    \n",
    "    def __init__(self, map, norm=1, meta=None):\n",
    "        #axis = map.geom.get_axis_by_name(\"energy\")\n",
    "        #if axis.node_type != \"edges\":\n",
    "        #    raise ValueError('Need a map with energy axis node_type=\"edges\"')\n",
    "\n",
    "        self.map = map\n",
    "        self.meta = {} if meta is None else meta\n",
    "        self.parameters = Parameters([Parameter(\"norm\", norm)])\n",
    "    \n",
    "    def evaluate(self):\n",
    "        #TODO : Add energy dependance - pass an index and scale each slice accordingly\n",
    "        return u.Quantity(self.parameters[\"norm\"].value * self.map.data, self.map.unit, copy=False)\n",
    "        "
   ]
  },
  {
   "cell_type": "markdown",
   "metadata": {},
   "source": [
    "Creating background model - seems to work - but should the class return a map or just an array?"
   ]
  },
  {
   "cell_type": "code",
   "execution_count": 10,
   "metadata": {},
   "outputs": [],
   "source": [
    "axis = MapAxis.from_edges([0.1, 1.0, 10.0, 100], name=\"energy\", unit=\"TeV\", interp=\"log\")\n",
    "m = Map.create(npix=(4, 3), binsz=2, axes=[axis], unit=\"cm-2 s-1 MeV-1 sr-1\")\n",
    "m.data += 1.0\n",
    "bkg = BackgroundCube(m, norm=2)"
   ]
  },
  {
   "cell_type": "code",
   "execution_count": 13,
   "metadata": {},
   "outputs": [
    {
     "data": {
      "text/latex": [
       "$[[[2,~2,~2,~2],~\n",
       "  [2,~2,~2,~2],~\n",
       "  [2,~2,~2,~2]],~\n",
       "\n",
       " [[2,~2,~2,~2],~\n",
       "  [2,~2,~2,~2],~\n",
       "  [2,~2,~2,~2]],~\n",
       "\n",
       " [[2,~2,~2,~2],~\n",
       "  [2,~2,~2,~2],~\n",
       "  [2,~2,~2,~2]]] \\; \\mathrm{\\frac{1}{MeV\\,s\\,sr\\,cm^{2}}}$"
      ],
      "text/plain": [
       "<Quantity [[[2., 2., 2., 2.],\n",
       "            [2., 2., 2., 2.],\n",
       "            [2., 2., 2., 2.]],\n",
       "\n",
       "           [[2., 2., 2., 2.],\n",
       "            [2., 2., 2., 2.],\n",
       "            [2., 2., 2., 2.]],\n",
       "\n",
       "           [[2., 2., 2., 2.],\n",
       "            [2., 2., 2., 2.],\n",
       "            [2., 2., 2., 2.]]] 1 / (cm2 MeV s sr)>"
      ]
     },
     "execution_count": 13,
     "metadata": {},
     "output_type": "execute_result"
    }
   ],
   "source": [
    "back_model = bkg.evaluate()\n",
    "back_model"
   ]
  },
  {
   "cell_type": "markdown",
   "metadata": {},
   "source": [
    "Now MapFit and Evaluator. "
   ]
  },
  {
   "cell_type": "code",
   "execution_count": 45,
   "metadata": {},
   "outputs": [],
   "source": [
    "from __future__ import absolute_import, division, print_function, unicode_literals\n",
    "import numpy as np\n",
    "from astropy.utils import lazyproperty\n",
    "import astropy.units as u\n",
    "from gammapy.utils.fitting import Fit\n",
    "from gammapy.stats import cash\n",
    "from gammapy.maps import Map, MapAxis\n",
    "\n",
    "class MapEvaluator1(object):\n",
    "   \n",
    "\n",
    "    def __init__(\n",
    "        self, model=None, exposure=None, background=None, psf=None, edisp=None\n",
    "    ):\n",
    "        self.model = model\n",
    "        self.exposure = exposure\n",
    "        self.background = background\n",
    "        self.psf = psf\n",
    "        self.edisp = edisp\n",
    "\n",
    "    @lazyproperty\n",
    "    def geom(self):\n",
    "        \"\"\"This will give the energy axes in e_true\"\"\"\n",
    "        return self.exposure.geom\n",
    "\n",
    "    @lazyproperty\n",
    "    def geom_image(self):\n",
    "        return self.geom.to_image()\n",
    "\n",
    "    @lazyproperty\n",
    "    def energy_center(self):\n",
    "        \"\"\"True energy axis bin centers (`~astropy.units.Quantity`)\"\"\"\n",
    "        energy_axis = self.geom.get_axis_by_name(\"energy\")\n",
    "        energy = energy_axis.center * energy_axis.unit\n",
    "        return energy[:, np.newaxis, np.newaxis]\n",
    "\n",
    "    @lazyproperty\n",
    "    def energy_edges(self):\n",
    "        \"\"\"Energy axis bin edges (`~astropy.units.Quantity`)\"\"\"\n",
    "        energy_axis = self.geom.get_axis_by_name(\"energy\")\n",
    "        energy = energy_axis.edges * energy_axis.unit\n",
    "        return energy[:, np.newaxis, np.newaxis]\n",
    "\n",
    "    @lazyproperty\n",
    "    def energy_bin_width(self):\n",
    "        \"\"\"Energy axis bin widths (`astropy.units.Quantity`)\"\"\"\n",
    "        return np.diff(self.energy_edges, axis=0)\n",
    "\n",
    "    @lazyproperty\n",
    "    def lon_lat(self):\n",
    "        \"\"\"Spatial coordinate pixel centers.\n",
    "\n",
    "        Returns ``lon, lat`` tuple of `~astropy.units.Quantity`.\n",
    "        \"\"\"\n",
    "        lon, lat = self.geom_image.get_coord()\n",
    "        return lon * u.deg, lat * u.deg\n",
    "\n",
    "    @lazyproperty\n",
    "    def lon(self):\n",
    "        return self.lon_lat[0]\n",
    "\n",
    "    @lazyproperty\n",
    "    def lat(self):\n",
    "        return self.lon_lat[1]\n",
    "\n",
    "    @lazyproperty\n",
    "    def solid_angle(self):\n",
    "        \"\"\"Solid angle per pixel\"\"\"\n",
    "        return self.geom.solid_angle()\n",
    "\n",
    "    @lazyproperty\n",
    "    def bin_volume(self):\n",
    "        \"\"\"Map pixel bin volume (solid angle times energy bin width).\"\"\"\n",
    "        omega = self.solid_angle\n",
    "        de = self.energy_bin_width\n",
    "        return omega * de\n",
    "\n",
    "    def compute_dnde(self):\n",
    "        \"\"\"Compute model differential flux at map pixel centers.\n",
    "\n",
    "        Returns\n",
    "        -------\n",
    "        model_map : `~gammapy.maps.Map`\n",
    "            Sky cube with data filled with evaluated model values.\n",
    "            Units: ``cm-2 s-1 TeV-1 deg-2``\n",
    "        \"\"\"\n",
    "        coord = (self.lon, self.lat, self.energy_center)\n",
    "        dnde = self.model.evaluate(*coord)\n",
    "        return dnde\n",
    "\n",
    "    def compute_flux(self):\n",
    "        \"\"\"Compute model integral flux over map pixel volumes.\n",
    "\n",
    "        For now, we simply multiply dnde with bin volume.\n",
    "        \"\"\"\n",
    "        dnde = self.compute_dnde()\n",
    "        volume = self.bin_volume\n",
    "        flux = dnde * volume\n",
    "        return flux.to(\"cm-2 s-1\")\n",
    "\n",
    "    def apply_exposure(self, flux):\n",
    "        \"\"\"Compute npred cube\n",
    "\n",
    "        For now just divide flux cube by exposure\n",
    "        \"\"\"\n",
    "        npred = Map.from_geom(self.geom, unit=\"\")\n",
    "        npred.data = (flux * self.exposure.quantity).to(\"\").value\n",
    "        return npred\n",
    "\n",
    "    def apply_psf(self, npred):\n",
    "        \"\"\"Convolve npred cube with PSF\"\"\"\n",
    "        return npred.convolve(self.psf)\n",
    "\n",
    "    def apply_edisp(self, npred):\n",
    "        \"\"\"Convolve map data with energy dispersion.\n",
    "\n",
    "        Parameters\n",
    "        ----------\n",
    "        npred : `~gammapy.maps.Map`\n",
    "            Predicted counts in true energy bins\n",
    "\n",
    "        Returns\n",
    "        ---------\n",
    "        npred_reco : `~gammapy.maps.Map`\n",
    "            Predicted counts in reco energy bins\n",
    "        \"\"\"\n",
    "        loc = npred.geom.get_axis_index_by_name(\"energy\")\n",
    "        data = np.rollaxis(npred.data, loc, len(npred.data.shape))\n",
    "        data = np.dot(data, self.edisp.pdf_matrix)\n",
    "        data = np.rollaxis(data, -1, loc)\n",
    "        e_reco_axis = MapAxis.from_edges(\n",
    "            self.edisp.e_reco.bins, unit=self.edisp.e_reco.unit\n",
    "        )\n",
    "        geom_ereco = self.exposure.geom.to_image().to_cube(axes=[e_reco_axis])\n",
    "        npred = Map.from_geom(geom_ereco, unit=\"\")\n",
    "        npred.data = data\n",
    "        return npred\n",
    "    \n",
    "    def apply_bkg(self, npred):\n",
    "        #background is a model here\n",
    "        bkg = self.background.evaluate()\n",
    "        npred.data = npred.data + bkg.value #check units and add properly\n",
    "        return npred\n",
    "        \n",
    "\n",
    "    def compute_npred(self):\n",
    "        \"\"\"\n",
    "        Evaluate model predicted counts.\n",
    "\n",
    "        Returns\n",
    "        -------\n",
    "        npred.data : ~numpy.ndarray\n",
    "            array of the predicted counts in each bin (in reco energy)\n",
    "        \"\"\"\n",
    "        flux = self.compute_flux()\n",
    "        npred = self.apply_exposure(flux)\n",
    "        if self.psf is not None:\n",
    "            npred = self.apply_psf(npred)\n",
    "        if self.edisp is not None:\n",
    "            npred = self.apply_edisp(npred)\n",
    "        #test if self.background is a model. else, do as before\n",
    "        npred = self.apply_bkg(npred)\n",
    "            \n",
    "        #if self.background:\n",
    "        #    npred.data += self.background.data\n",
    "        return npred.data\n"
   ]
  },
  {
   "cell_type": "code",
   "execution_count": null,
   "metadata": {},
   "outputs": [],
   "source": []
  },
  {
   "cell_type": "code",
   "execution_count": 46,
   "metadata": {},
   "outputs": [],
   "source": [
    "%matplotlib inline\n",
    "import matplotlib.pyplot as plt\n",
    "import numpy as np\n",
    "import astropy.units as u\n",
    "from astropy.coordinates import SkyCoord, Angle\n",
    "from gammapy.irf import (\n",
    "    EffectiveAreaTable2D,\n",
    "    EnergyDispersion2D,\n",
    "    EnergyDependentMultiGaussPSF,\n",
    "    Background3D,\n",
    ")\n",
    "from gammapy.maps import WcsGeom, MapAxis, WcsNDMap, Map\n",
    "from gammapy.spectrum.models import PowerLaw\n",
    "from gammapy.image.models import SkyGaussian\n",
    "from gammapy.cube.models import SkyModel, SkyModels\n",
    "from gammapy.cube import MapFit, MapEvaluator, PSFKernel\n",
    "from gammapy.cube import make_map_exposure_true_energy, make_map_background_irf"
   ]
  },
  {
   "cell_type": "code",
   "execution_count": 47,
   "metadata": {},
   "outputs": [],
   "source": [
    "def get_irfs():\n",
    "    \"\"\"Load CTA IRFs\"\"\"\n",
    "    filename = \"$GAMMAPY_DATA/cta-1dc/caldb/data/cta/1dc/bcf/South_z20_50h/irf_file.fits\"\n",
    "    psf = EnergyDependentMultiGaussPSF.read(\n",
    "        filename, hdu=\"POINT SPREAD FUNCTION\"\n",
    "    )\n",
    "    aeff = EffectiveAreaTable2D.read(filename, hdu=\"EFFECTIVE AREA\")\n",
    "    edisp = EnergyDispersion2D.read(filename, hdu=\"ENERGY DISPERSION\")\n",
    "    bkg = Background3D.read(filename, hdu=\"BACKGROUND\")\n",
    "    return dict(psf=psf, aeff=aeff, edisp=edisp, bkg=bkg)\n",
    "\n",
    "\n",
    "irfs = get_irfs()"
   ]
  },
  {
   "cell_type": "code",
   "execution_count": 48,
   "metadata": {},
   "outputs": [],
   "source": [
    "# Define sky model to simulate the data\n",
    "spatial_model = SkyGaussian(lon_0=\"0.2 deg\", lat_0=\"0.1 deg\", sigma=\"0.3 deg\")\n",
    "spectral_model = PowerLaw(\n",
    "    index=3, amplitude=\"1e-11 cm-2 s-1 TeV-1\", reference=\"1 TeV\"\n",
    ")\n",
    "sky_model = SkyModel(\n",
    "    spatial_model=spatial_model, spectral_model=spectral_model\n",
    ")\n"
   ]
  },
  {
   "cell_type": "code",
   "execution_count": 49,
   "metadata": {},
   "outputs": [],
   "source": [
    "# Define map geometry\n",
    "axis = MapAxis.from_edges(\n",
    "    np.logspace(-1., 1., 10), unit=\"TeV\", name=\"energy\", interp=\"log\"\n",
    ")\n",
    "geom = WcsGeom.create(\n",
    "    skydir=(0, 0), binsz=0.02, width=(5, 4), coordsys=\"GAL\", axes=[axis]\n",
    ")\n",
    "pointing = SkyCoord(1, 0.5, unit=\"deg\", frame=\"galactic\")\n",
    "livetime = 1 * u.hour\n",
    "offset_max = 2 * u.deg\n",
    "offset = Angle(\"2 deg\")\n",
    "exposure = make_map_exposure_true_energy(\n",
    "    pointing=pointing, livetime=livetime, aeff=irfs[\"aeff\"], geom=geom\n",
    ")"
   ]
  },
  {
   "cell_type": "code",
   "execution_count": 72,
   "metadata": {},
   "outputs": [],
   "source": [
    "back_map = Map.from_geom(geom=geom)\n",
    "back_map += 1.0\n",
    "background = BackgroundCube(back_map, norm = 3.0)\n",
    "b1 = background.evaluate()\n"
   ]
  },
  {
   "cell_type": "code",
   "execution_count": 73,
   "metadata": {},
   "outputs": [],
   "source": [
    "evaluator = MapEvaluator1(\n",
    "    model=sky_model, exposure=exposure, background=background\n",
    ")"
   ]
  },
  {
   "cell_type": "code",
   "execution_count": 74,
   "metadata": {},
   "outputs": [],
   "source": [
    "npred = evaluator.compute_npred()"
   ]
  },
  {
   "cell_type": "code",
   "execution_count": 75,
   "metadata": {},
   "outputs": [],
   "source": [
    "npred_map = WcsNDMap(geom, npred)\n",
    "rng = np.random.RandomState(seed=42)\n",
    "counts = rng.poisson(npred)\n",
    "counts_map = WcsNDMap(geom, counts)"
   ]
  },
  {
   "cell_type": "markdown",
   "metadata": {},
   "source": [
    "model creating works"
   ]
  },
  {
   "cell_type": "markdown",
   "metadata": {},
   "source": [
    "Now for the fitting"
   ]
  },
  {
   "cell_type": "code",
   "execution_count": null,
   "metadata": {},
   "outputs": [],
   "source": [
    "# Define sky model to fit the data\n",
    "spatial_model = SkyGaussian(lon_0=\"0 deg\", lat_0=\"0 deg\", sigma=\"1 deg\")\n",
    "spectral_model = PowerLaw(\n",
    "    index=2, amplitude=\"1e-11 cm-2 s-1 TeV-1\", reference=\"1 TeV\"\n",
    ")\n",
    "model = SkyModel(spatial_model=spatial_model, spectral_model=spectral_model)\n",
    "\n",
    "# Impose that specrtal index remains within limits\n",
    "spectral_model.parameters['index'].min = 0.\n",
    "spectral_model.parameters['index'].max = 10.\n"
   ]
  },
  {
   "cell_type": "code",
   "execution_count": null,
   "metadata": {},
   "outputs": [],
   "source": [
    "class MapFit1(Fit):\n",
    "   \n",
    "    def __init__(\n",
    "        self, model, counts, exposure, background=None, mask=None, psf=None, edisp=None\n",
    "    ):\n",
    "        if mask is not None and mask.data.dtype != np.dtype(\"bool\"):\n",
    "            raise ValueError(\"mask data must have dtype bool\")\n",
    "\n",
    "        # Create a copy of the input model that is owned and modified by MapFit\n",
    "        self._model = model.copy()\n",
    "        self.counts = counts\n",
    "        self.exposure = exposure\n",
    "        self.background = BackgroundCube(back_map, norm = 3.0)\n",
    "        self.mask = mask\n",
    "        self.psf = psf\n",
    "        self.edisp = edisp\n",
    "\n",
    "        self.evaluator = MapEvaluator(\n",
    "            model=self._model,\n",
    "            exposure=exposure,\n",
    "            background=self.background,\n",
    "            psf=self.psf,\n",
    "            edisp=self.edisp,\n",
    "        )\n",
    "\n",
    "    @property\n",
    "    def stat(self):\n",
    "        \"\"\"Likelihood per bin given the current model parameters\"\"\"\n",
    "        npred = self.evaluator.compute_npred()\n",
    "        return cash(n_on=self.counts.data, mu_on=npred)\n",
    "\n",
    "    def total_stat(self, parameters):\n",
    "        \"\"\"Total likelihood given the current model parameters\"\"\"\n",
    "        self._model.parameters = parameters\n",
    "        if self.mask:\n",
    "            stat = self.stat[self.mask.data]\n",
    "        else:\n",
    "            stat = self.stat\n",
    "        return np.sum(stat, dtype=np.float64)"
   ]
  },
  {
   "cell_type": "code",
   "execution_count": null,
   "metadata": {},
   "outputs": [],
   "source": [
    "\n"
   ]
  }
 ],
 "metadata": {
  "kernelspec": {
   "display_name": "Python 3",
   "language": "python",
   "name": "python3"
  },
  "language_info": {
   "codemirror_mode": {
    "name": "ipython",
    "version": 3
   },
   "file_extension": ".py",
   "mimetype": "text/x-python",
   "name": "python",
   "nbconvert_exporter": "python",
   "pygments_lexer": "ipython3",
   "version": "3.6.4"
  }
 },
 "nbformat": 4,
 "nbformat_minor": 2
}
