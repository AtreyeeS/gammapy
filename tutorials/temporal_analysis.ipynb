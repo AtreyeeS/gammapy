{
 "cells": [
  {
   "cell_type": "markdown",
   "metadata": {},
   "source": [
    " # Temporal analysis with gammapy\n",
    " \n",
    " - PKS 2155-304 flare runs from the HESS Public data release\n",
    " - Assume template background already made using https://docs.gammapy.org/dev/notebooks/background_model.html\n",
    " - Do a 3D map based analysis keeping only the amplitude free\n"
   ]
  },
  {
   "cell_type": "code",
   "execution_count": 1,
   "metadata": {},
   "outputs": [],
   "source": [
    "import matplotlib.pyplot as plt\n",
    "import numpy as np\n",
    "import astropy.units as u\n",
    "import os\n",
    "from pathlib import Path\n",
    "\n",
    "from astropy.coordinates import SkyCoord, Angle\n",
    "\n",
    "from gammapy.data import ObservationFilter, DataStore, DataStoreObservation\n",
    "from gammapy.irf import EffectiveAreaTable2D, EnergyDispersion2D, EnergyDependentMultiGaussPSF, Background3D\n",
    "from gammapy.spectrum.models import PowerLaw, PowerLaw2\n",
    "from gammapy.image.models import SkyPointSource\n",
    "from gammapy.cube import MapEvaluator, PSFKernel, MapMaker, MapMakerObs, MapDataset\n",
    "from gammapy.utils.fitting import Fit\n",
    "from gammapy.cube import make_map_exposure_true_energy, make_map_background_irf\n",
    "from gammapy.maps import WcsGeom, MapAxis, WcsNDMap, Map\n",
    "from gammapy.cube.models import SkyModel, SkyModels, BackgroundModel\n",
    "from gammapy.cube.exposure import _map_spectrum_weight\n",
    "from astropy.time import Time\n",
    "from regions import CircleSkyRegion\n",
    "from gammapy.irf import make_mean_psf\n"
   ]
  },
  {
   "cell_type": "markdown",
   "metadata": {},
   "source": [
    "### Load the data - standard process - use the hdu-index-table with the background files"
   ]
  },
  {
   "cell_type": "code",
   "execution_count": 2,
   "metadata": {},
   "outputs": [],
   "source": [
    "#Get DR1 data\n",
    "\n",
    "path = (\n",
    "    Path(os.environ[\"GAMMAPY_DATA\"])\n",
    "    / \"hess-dl3-dr1/hess-dl3-dr3-with-background.fits.gz\"\n",
    ")\n",
    "datastore = DataStore.from_file(path)\n",
    "src=SkyCoord.from_name(\"PKS 2155-304\")\n",
    "sep=SkyCoord.separation(src,datastore.obs_table.pointing_radec)\n",
    "Radius=2.3\n",
    "srcruns=(datastore.obs_table[sep<Radius*u.deg])\n",
    "myid=srcruns['OBS_ID'].data\n",
    "mylist=datastore.get_observations(myid)"
   ]
  },
  {
   "cell_type": "markdown",
   "metadata": {},
   "source": [
    "## Steps for standard 3D analysis\n",
    "\n",
    "Standard 3D analysis as explained in analysis_3d will be performed for each time bin."
   ]
  },
  {
   "cell_type": "code",
   "execution_count": 3,
   "metadata": {},
   "outputs": [],
   "source": [
    "# Define geoms\n",
    "emin, emax = [0.1, 10] * u.TeV\n",
    "energy_axis = MapAxis.from_bounds(\n",
    "    emin.value, emax.value, 10, unit=\"TeV\", name=\"energy\", interp=\"log\"\n",
    ")\n",
    "geom = WcsGeom.create(\n",
    "    skydir=src,\n",
    "    binsz=0.02,\n",
    "    width=(10, 8),\n",
    "    coordsys=\"CEL\",\n",
    "    proj=\"CAR\",\n",
    "    axes=[energy_axis],\n",
    ")"
   ]
  },
  {
   "cell_type": "code",
   "execution_count": 4,
   "metadata": {},
   "outputs": [],
   "source": [
    "# Define the source model - Use a pointsource + integrated power law model to directly get flux\n",
    "\n",
    "spatial_model = SkyPointSource(lon_0=src.ra, lat_0=src.dec, frame=\"icrs\")\n",
    "spectral_model = PowerLaw2(\n",
    "    emin=emin, emax=emax, index=2.0, amplitude=\"3e-10 cm-2 s-1\"\n",
    ")\n",
    "sky_model = SkyModel(spatial_model=spatial_model, spectral_model=spectral_model)\n",
    "sky_model.parameters[\"index\"].frozen = True\n",
    "sky_model.parameters[\"lon_0\"].frozen = True\n",
    "sky_model.parameters[\"lat_0\"].frozen = True\n",
    "sky_model.parameters[\"amplitude\"].min = 0.0"
   ]
  },
  {
   "cell_type": "code",
   "execution_count": 5,
   "metadata": {},
   "outputs": [],
   "source": [
    "region = CircleSkyRegion(center=src, radius=0.6 * u.deg)"
   ]
  },
  {
   "cell_type": "code",
   "execution_count": 6,
   "metadata": {},
   "outputs": [],
   "source": [
    "# psf_kernel and MapMaker for each segment\n",
    "def make_maps(observations):\n",
    "    maker = MapMaker(geom, offset_max=2.0 * u.deg)\n",
    "    spectrum = PowerLaw2(index=2)\n",
    "    maps2D = maker.run_images(observations, spectrum=spectrum, keepdims=True)\n",
    "    geom2d = maps2D[\"exposure\"].geom\n",
    "    \n",
    "    table_psf = make_mean_psf(observations,src)\n",
    "\n",
    "    table_psf_2d = table_psf.table_psf_in_energy_band(\n",
    "    (emin, emax), spectrum=spectrum)\n",
    "\n",
    "    # PSF kernel used for the model convolution\n",
    "    psf_kernel = PSFKernel.from_table_psf(\n",
    "        table_psf_2d, geom2d, max_radius=\"0.3 deg\"\n",
    "        )\n",
    "    \n",
    "    return maps2D, psf_kernel"
   ]
  },
  {
   "cell_type": "markdown",
   "metadata": {},
   "source": [
    "### Choose the time binning - PKS flare example\n",
    "\n",
    "From the DR1 paper, we can see that the flare runs are taken on the night 2006-07-29 - 2006-07-30.\n",
    "We make 5 min bins."
   ]
  },
  {
   "cell_type": "code",
   "execution_count": 7,
   "metadata": {},
   "outputs": [],
   "source": [
    "time_start = Time(\"2006-07-29 20:00:00.000\")\n",
    "time_stop = Time(\"2006-07-30 06:00:00.00\")\n",
    "time_step = 5.0 * u.min\n",
    "time_0 = time_start"
   ]
  },
  {
   "cell_type": "code",
   "execution_count": 8,
   "metadata": {},
   "outputs": [
    {
     "name": "stdout",
     "output_type": "stream",
     "text": [
      "CPU times: user 10min 27s, sys: 32.1 s, total: 10min 59s\n",
      "Wall time: 3min 57s\n"
     ]
    }
   ],
   "source": [
    "%%time\n",
    "\n",
    "map_segments = []\n",
    "psf_segments = []\n",
    "\n",
    "mjd = []\n",
    "while time_start<time_stop:\n",
    "    \n",
    "    # get smaller observation lists\n",
    "    t2 = time_start+time_step\n",
    "    time_interval = Time([time_start.value, t2.value])\n",
    "    obs = mylist.select_time(time_interval)\n",
    "    \n",
    "    \n",
    "    #Proceed with further analysis only if there are observations in the selected time window\n",
    "    if len(obs) > 0: \n",
    "        \n",
    "        maps, psf = make_maps(obs)\n",
    "        map_segments.append(maps)\n",
    "        psf_segments.append(psf)\n",
    "        \n",
    "        mjd.append((time_start+time_step/2.0).mjd)\n",
    "    time_start = t2"
   ]
  },
  {
   "cell_type": "code",
   "execution_count": 9,
   "metadata": {},
   "outputs": [],
   "source": [
    "#Quick look excess\n",
    "excess_counts = []\n",
    "excess_err = []\n",
    "for amap in map_segments:\n",
    "    excess = amap['counts'] - amap['background']\n",
    "    mask = amap['counts'].geom.region_mask([region])\n",
    "    excess = excess * mask\n",
    "    c_err = np.sqrt((amap['counts']*mask).data.sum())\n",
    "    b_err = np.sqrt((amap['background']*mask).data.sum())\n",
    "    excess_counts.append(excess.data.sum())\n",
    "    excess_err.append(c_err+b_err)\n"
   ]
  },
  {
   "cell_type": "code",
   "execution_count": 10,
   "metadata": {},
   "outputs": [
    {
     "data": {
      "text/plain": [
       "Text(0,0.5,'Excess counts')"
      ]
     },
     "execution_count": 10,
     "metadata": {},
     "output_type": "execute_result"
    },
    {
     "data": {
      "image/png": "[encoded data removed]",
      "text/plain": [
       "<Figure size 432x288 with 1 Axes>"
      ]
     },
     "metadata": {
      "needs_background": "light"
     },
     "output_type": "display_data"
    }
   ],
   "source": [
    "plt.errorbar(mjd,excess_counts,yerr=excess_err,fmt=\"o\")    \n",
    "plt.xlabel(\"MJD\")\n",
    "plt.ylabel(\"Excess counts\")"
   ]
  },
  {
   "cell_type": "markdown",
   "metadata": {},
   "source": [
    "The binning seems reasonable. Now, do a 3D fitting to get proper flux"
   ]
  },
  {
   "cell_type": "code",
   "execution_count": 11,
   "metadata": {},
   "outputs": [
    {
     "name": "stdout",
     "output_type": "stream",
     "text": [
      "CPU times: user 1min 16s, sys: 2.22 s, total: 1min 18s\n",
      "Wall time: 19.8 s\n"
     ]
    }
   ],
   "source": [
    "%%time\n",
    "flux = []\n",
    "flux_err = []\n",
    "for amap,psf in zip(map_segments,psf_segments):\n",
    "    \n",
    "    #Copy the source model\n",
    "    model = sky_model.copy()\n",
    "    \n",
    "    # Make the background model\n",
    "    background_model = BackgroundModel(amap[\"background\"])\n",
    "    background_model.parameters[\"norm\"].frozen = True\n",
    "    background_model.parameters[\"tilt\"].frozen = True\n",
    "          \n",
    "    #Now fit\n",
    "    dataset = MapDataset(\n",
    "        model=model,\n",
    "        counts=amap[\"counts\"],\n",
    "        exposure=amap[\"exposure\"],\n",
    "        background_model=background_model,\n",
    "        mask_fit=mask,\n",
    "        psf=psf,\n",
    "    )\n",
    "        \n",
    "    fit = Fit(dataset)\n",
    "    result = fit.run()\n",
    "    flux.append(model.parameters['amplitude'].value)\n",
    "    flux_err.append(result.parameters.error('amplitude'))"
   ]
  },
  {
   "cell_type": "code",
   "execution_count": 12,
   "metadata": {},
   "outputs": [
    {
     "data": {
      "text/plain": [
       "Text(0,0.5,'flux')"
      ]
     },
     "execution_count": 12,
     "metadata": {},
     "output_type": "execute_result"
    },
    {
     "data": {
      "image/png": "[encoded data removed]",
      "text/plain": [
       "<Figure size 432x288 with 1 Axes>"
      ]
     },
     "metadata": {
      "needs_background": "light"
     },
     "output_type": "display_data"
    }
   ],
   "source": [
    "plt.errorbar(np.subtract(mjd,mjd[0]),flux,yerr=flux_err,fmt=\"o\")    \n",
    "plt.xlabel(\"MJD [\" + str(mjd[0]) + \"+]\")\n",
    "plt.ylabel(\"flux\")"
   ]
  },
  {
   "cell_type": "code",
   "execution_count": null,
   "metadata": {},
   "outputs": [],
   "source": []
  }
 ],
 "metadata": {
  "kernelspec": {
   "display_name": "Python 3",
   "language": "python",
   "name": "python3"
  },
  "language_info": {
   "codemirror_mode": {
    "name": "ipython",
    "version": 3
   },
   "file_extension": ".py",
   "mimetype": "text/x-python",
   "name": "python",
   "nbconvert_exporter": "python",
   "pygments_lexer": "ipython3",
   "version": "3.7.1"
  }
 },
 "nbformat": 4,
 "nbformat_minor": 2
}
