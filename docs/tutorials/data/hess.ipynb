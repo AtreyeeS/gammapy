{
 "cells": [
  {
   "cell_type": "markdown",
   "metadata": {},
   "source": [
    "# H.E.S.S. with Gammapy\n",
    "\n",
    "[H.E.S.S.](https://www.mpi-hd.mpg.de/hfm/HESS/) is an array of gamma-ray telescopes located in Namibia. Gammapy is regularly used and fully supports H.E.S.S. high level data analysis, after export to the current [open data level 3 format](https://gamma-astro-data-formats.readthedocs.io/).\n",
    "\n",
    "The H.E.S.S. data is private, and H.E.S.S. analysis is mostly documented and discussed at https://hess-confluence.desy.de/ and in H.E.S.S.-internal communication channels. However, in 2018, a small sub-set of archival H.E.S.S. data was publicly released, called the [H.E.S.S. DL3 DR1](https://www.mpi-hd.mpg.de/hfm/HESS/pages/dl3-dr1/), the data level 3, data release number 1. This dataset is 50 MB in size and is used in many Gammapy analysis tutorials, and can be downloaded via [gammapy download](https://docs.gammapy.org/dev/scripts/index.html?highlight=download).\n",
    "\n",
    "This notebook is a quick introduction to this specific DR1 release. It briefly describes H.E.S.S. data and instrument responses and show a simple exploration of the data with the creation of theta-squared plot.\n",
    "\n",
    "H.E.S.S. members can find details on the DL3 FITS production on this [Confluence page](https://hess-confluence.desy.de/confluence/display/HESS/HESS+FITS+data) and access more detailed tutorials in this [repository](https://bitbucket.org/hess_software/hess-open-source-tools/src/master/)  \n",
    "\n",
    "## DL3 DR1\n",
    "\n",
    "This is how to access data and IRFs from the H.E.S.S. data level 3, data release 1."
   ]
  },
  {
   "cell_type": "code",
   "execution_count": null,
   "metadata": {
    "execution": {
     "iopub.execute_input": "2021-09-24T13:26:10.865020Z",
     "iopub.status.busy": "2021-09-24T13:26:10.864402Z",
     "iopub.status.idle": "2021-09-24T13:26:11.581231Z",
     "shell.execute_reply": "2021-09-24T13:26:11.581570Z"
    }
   },
   "outputs": [],
   "source": [
    "%matplotlib inline\n",
    "import matplotlib.pyplot as plt\n",
    "from astropy.coordinates import SkyCoord\n",
    "import astropy.units as u"
   ]
  },
  {
   "cell_type": "code",
   "execution_count": null,
   "metadata": {
    "execution": {
     "iopub.execute_input": "2021-09-24T13:26:11.584542Z",
     "iopub.status.busy": "2021-09-24T13:26:11.584179Z",
     "iopub.status.idle": "2021-09-24T13:26:12.099974Z",
     "shell.execute_reply": "2021-09-24T13:26:12.100301Z"
    }
   },
   "outputs": [],
   "source": [
    "from gammapy.data import DataStore\n",
    "from gammapy.maps import MapAxis, WcsGeom, Map\n",
    "from gammapy.makers import MapDatasetMaker\n",
    "from gammapy.makers.utils import make_theta_squared_table\n",
    "from gammapy.visualization import plot_theta_squared_table"
   ]
  },
  {
   "cell_type": "markdown",
   "metadata": {},
   "source": [
    "A useful way to organize the relevant files are the index tables. The observation index table contains information on each particular run, such as the pointing, or the run ID. The HDU index table has a row per relevant file (i.e., events, effective area, psf...) and contains the path to said file. Together they can be loaded into a Datastore by indicating the directory in which they can be found, in this case \"$GAMMAPY_DATA/hess-dl3-dr1\":"
   ]
  },
  {
   "cell_type": "code",
   "execution_count": null,
   "metadata": {
    "execution": {
     "iopub.execute_input": "2021-09-24T13:26:12.103434Z",
     "iopub.status.busy": "2021-09-24T13:26:12.103080Z",
     "iopub.status.idle": "2021-09-24T13:26:12.132363Z",
     "shell.execute_reply": "2021-09-24T13:26:12.132686Z"
    }
   },
   "outputs": [],
   "source": [
    "data_store = DataStore.from_dir(\"$GAMMAPY_DATA/hess-dl3-dr1\")"
   ]
  },
  {
   "cell_type": "code",
   "execution_count": null,
   "metadata": {
    "execution": {
     "iopub.execute_input": "2021-09-24T13:26:12.136027Z",
     "iopub.status.busy": "2021-09-24T13:26:12.135594Z",
     "iopub.status.idle": "2021-09-24T13:26:12.138558Z",
     "shell.execute_reply": "2021-09-24T13:26:12.138227Z"
    }
   },
   "outputs": [],
   "source": [
    "data_store.info()"
   ]
  },
  {
   "cell_type": "code",
   "execution_count": null,
   "metadata": {
    "execution": {
     "iopub.execute_input": "2021-09-24T13:26:12.144471Z",
     "iopub.status.busy": "2021-09-24T13:26:12.144090Z",
     "iopub.status.idle": "2021-09-24T13:26:12.146214Z",
     "shell.execute_reply": "2021-09-24T13:26:12.145848Z"
    }
   },
   "outputs": [],
   "source": [
    "data_store.obs_table[:2][[\"OBS_ID\", \"DATE-OBS\", \"RA_PNT\", \"DEC_PNT\", \"OBJECT\"]]"
   ]
  },
  {
   "cell_type": "code",
   "execution_count": null,
   "metadata": {
    "execution": {
     "iopub.execute_input": "2021-09-24T13:26:12.149713Z",
     "iopub.status.busy": "2021-09-24T13:26:12.149355Z",
     "iopub.status.idle": "2021-09-24T13:26:12.152060Z",
     "shell.execute_reply": "2021-09-24T13:26:12.151661Z"
    }
   },
   "outputs": [],
   "source": [
    "obs = data_store.obs(23523)"
   ]
  },
  {
   "cell_type": "code",
   "execution_count": null,
   "metadata": {
    "execution": {
     "iopub.execute_input": "2021-09-24T13:26:12.154658Z",
     "iopub.status.busy": "2021-09-24T13:26:12.154287Z",
     "iopub.status.idle": "2021-09-24T13:26:13.267054Z",
     "shell.execute_reply": "2021-09-24T13:26:13.267426Z"
    }
   },
   "outputs": [],
   "source": [
    "obs.events.select_offset([0, 2.5] * u.deg).peek()"
   ]
  },
  {
   "cell_type": "code",
   "execution_count": null,
   "metadata": {
    "execution": {
     "iopub.execute_input": "2021-09-24T13:26:13.270154Z",
     "iopub.status.busy": "2021-09-24T13:26:13.268990Z",
     "iopub.status.idle": "2021-09-24T13:26:14.137877Z",
     "shell.execute_reply": "2021-09-24T13:26:14.138240Z"
    }
   },
   "outputs": [],
   "source": [
    "obs.aeff.peek()"
   ]
  },
  {
   "cell_type": "code",
   "execution_count": null,
   "metadata": {
    "execution": {
     "iopub.execute_input": "2021-09-24T13:26:14.140926Z",
     "iopub.status.busy": "2021-09-24T13:26:14.140567Z",
     "iopub.status.idle": "2021-09-24T13:26:15.066120Z",
     "shell.execute_reply": "2021-09-24T13:26:15.066411Z"
    }
   },
   "outputs": [],
   "source": [
    "obs.edisp.peek()"
   ]
  },
  {
   "cell_type": "code",
   "execution_count": null,
   "metadata": {
    "execution": {
     "iopub.execute_input": "2021-09-24T13:26:15.068987Z",
     "iopub.status.busy": "2021-09-24T13:26:15.068632Z",
     "iopub.status.idle": "2021-09-24T13:26:16.411346Z",
     "shell.execute_reply": "2021-09-24T13:26:16.411000Z"
    }
   },
   "outputs": [],
   "source": [
    "obs.psf.peek()"
   ]
  },
  {
   "cell_type": "code",
   "execution_count": null,
   "metadata": {
    "execution": {
     "iopub.execute_input": "2021-09-24T13:26:16.413916Z",
     "iopub.status.busy": "2021-09-24T13:26:16.413591Z",
     "iopub.status.idle": "2021-09-24T13:26:16.960287Z",
     "shell.execute_reply": "2021-09-24T13:26:16.960556Z"
    }
   },
   "outputs": [],
   "source": [
    "obs.bkg.to_2d().plot()"
   ]
  },
  {
   "cell_type": "markdown",
   "metadata": {},
   "source": [
    "## Theta squared event distribution\n",
    "As a quick look plot it can be helpful to plot the quadratic offset (theta squared) distribution of the events. "
   ]
  },
  {
   "cell_type": "code",
   "execution_count": null,
   "metadata": {
    "execution": {
     "iopub.execute_input": "2021-09-24T13:26:16.969166Z",
     "iopub.status.busy": "2021-09-24T13:26:16.968823Z",
     "iopub.status.idle": "2021-09-24T13:26:17.174827Z",
     "shell.execute_reply": "2021-09-24T13:26:17.174451Z"
    }
   },
   "outputs": [],
   "source": [
    "position = SkyCoord(ra=83.63, dec=22.01, unit=\"deg\", frame=\"icrs\")\n",
    "theta2_axis = MapAxis.from_bounds(0, 0.2, nbin=20, interp=\"lin\", unit=\"deg2\")\n",
    "\n",
    "observations = data_store.get_observations([23523, 23526])\n",
    "theta2_table = make_theta_squared_table(\n",
    "    observations=observations,\n",
    "    position=position,\n",
    "    theta_squared_axis=theta2_axis,\n",
    ")"
   ]
  },
  {
   "cell_type": "code",
   "execution_count": null,
   "metadata": {
    "execution": {
     "iopub.execute_input": "2021-09-24T13:26:17.284594Z",
     "iopub.status.busy": "2021-09-24T13:26:17.284075Z",
     "iopub.status.idle": "2021-09-24T13:26:17.439700Z",
     "shell.execute_reply": "2021-09-24T13:26:17.439352Z"
    },
    "nbsphinx-thumbnail": {
     "tooltip": "Explore H.E.S.S. event lists and IRFs."
    }
   },
   "outputs": [],
   "source": [
    "plt.figure(figsize=(10, 5))\n",
    "plot_theta_squared_table(theta2_table)"
   ]
  },
  {
   "cell_type": "markdown",
   "metadata": {},
   "source": [
    "## On-axis equivalent livetime\n",
    "\n",
    "Since the acceptance of the H.E.S.S. camera varies within the field of view, what is often interesting is not the simply the total number of hours a source was observed, but the on-axis equivalent number of hours. We calculated the same for the MSH 1552 runs here."
   ]
  },
  {
   "cell_type": "code",
   "execution_count": null,
   "metadata": {
    "execution": {
     "iopub.execute_input": "2021-09-24T13:26:17.466801Z",
     "iopub.status.busy": "2021-09-24T13:26:17.446089Z",
     "iopub.status.idle": "2021-09-24T13:26:17.468563Z",
     "shell.execute_reply": "2021-09-24T13:26:17.468860Z"
    }
   },
   "outputs": [],
   "source": [
    "# Get the observations\n",
    "obs_id = data_store.obs_table[\"OBS_ID\"][\n",
    "    data_store.obs_table[\"OBJECT\"] == \"MSH 15-5-02\"\n",
    "]\n",
    "observations = data_store.get_observations(obs_id)\n",
    "print(len(observations))"
   ]
  },
  {
   "cell_type": "code",
   "execution_count": null,
   "metadata": {
    "execution": {
     "iopub.execute_input": "2021-09-24T13:26:17.471877Z",
     "iopub.status.busy": "2021-09-24T13:26:17.471321Z",
     "iopub.status.idle": "2021-09-24T13:26:17.474070Z",
     "shell.execute_reply": "2021-09-24T13:26:17.473556Z"
    }
   },
   "outputs": [],
   "source": [
    "# Define an energy range\n",
    "energy_min = 100 * u.GeV\n",
    "energy_max = 10.0 * u.TeV\n",
    "\n",
    "# define a offset cut\n",
    "offset_max = 2.5 * u.deg"
   ]
  },
  {
   "cell_type": "code",
   "execution_count": null,
   "metadata": {
    "execution": {
     "iopub.execute_input": "2021-09-24T13:26:17.487262Z",
     "iopub.status.busy": "2021-09-24T13:26:17.486132Z",
     "iopub.status.idle": "2021-09-24T13:26:17.490030Z",
     "shell.execute_reply": "2021-09-24T13:26:17.489243Z"
    }
   },
   "outputs": [],
   "source": [
    "# define the geom\n",
    "source_pos = SkyCoord(228.32, -59.08, unit=\"deg\")\n",
    "energy_axis_true = MapAxis.from_energy_bounds(\n",
    "    energy_min, energy_max, nbin=1, name=\"energy_true\"\n",
    ")\n",
    "geom = WcsGeom.create(\n",
    "    skydir=source_pos,\n",
    "    binsz=0.02,\n",
    "    width=(6, 6),\n",
    "    frame=\"icrs\",\n",
    "    proj=\"CAR\",\n",
    "    axes=[energy_axis_true],\n",
    ")"
   ]
  },
  {
   "cell_type": "code",
   "execution_count": null,
   "metadata": {
    "execution": {
     "iopub.execute_input": "2021-09-24T13:26:17.506081Z",
     "iopub.status.busy": "2021-09-24T13:26:17.505216Z",
     "iopub.status.idle": "2021-09-24T13:26:18.951074Z",
     "shell.execute_reply": "2021-09-24T13:26:18.950654Z"
    }
   },
   "outputs": [],
   "source": [
    "# compute\n",
    "livetime = Map.from_geom(geom, unit=u.hr)\n",
    "for obs in observations:\n",
    "    geom_obs = geom.cutout(position=obs.pointing_radec, width=2.0 * offset_max)\n",
    "    exposure = MapDatasetMaker.make_exposure(geom=geom_obs, observation=obs)\n",
    "    on_axis = obs.aeff.evaluate(\n",
    "        offset=0.0 * u.deg, energy_true=geom.axes[\"energy_true\"].center\n",
    "    )\n",
    "    on_axis = on_axis.reshape((on_axis.shape[0], 1, 1))\n",
    "    lv_obs = exposure / on_axis\n",
    "    livetime.stack(lv_obs)"
   ]
  },
  {
   "cell_type": "code",
   "execution_count": null,
   "metadata": {
    "execution": {
     "iopub.execute_input": "2021-09-24T13:26:18.968553Z",
     "iopub.status.busy": "2021-09-24T13:26:18.968171Z",
     "iopub.status.idle": "2021-09-24T13:26:19.371754Z",
     "shell.execute_reply": "2021-09-24T13:26:19.372128Z"
    }
   },
   "outputs": [],
   "source": [
    "# Plot\n",
    "fig, ax, _ = livetime.plot(add_cbar=True)\n",
    "\n",
    "# Add the pointing position on top\n",
    "for obs in observations:\n",
    "    ax.plot(\n",
    "        obs.pointing_radec.to_pixel(wcs=ax.wcs)[0],\n",
    "        obs.pointing_radec.to_pixel(wcs=ax.wcs)[1],\n",
    "        \"+\",\n",
    "        color=\"black\",\n",
    "    )"
   ]
  },
  {
   "cell_type": "markdown",
   "metadata": {},
   "source": [
    "## Exercises\n",
    "\n",
    "- Find the `OBS_ID` for the runs of the Crab nebula\n",
    "- Compute the expected number of background events in the whole RoI for `OBS_ID=23523` in the 1 TeV to 3 TeV energy band, from the background IRF."
   ]
  },
  {
   "cell_type": "markdown",
   "metadata": {},
   "source": [
    "## Next steps\n",
    "\n",
    "Now you know how to access and work with H.E.S.S. data. All other tutorials and documentation apply to H.E.S.S. and CTA or any other IACT that provides DL3 data and IRFs in the standard format."
   ]
  }
 ],
 "metadata": {
  "kernelspec": {
   "display_name": "Python 3",
   "language": "python",
   "name": "python3"
  },
  "language_info": {
   "codemirror_mode": {
    "name": "ipython",
    "version": 3
   },
   "file_extension": ".py",
   "mimetype": "text/x-python",
   "name": "python",
   "nbconvert_exporter": "python",
   "pygments_lexer": "ipython3",
   "version": "3.7.0"
  }
 },
 "nbformat": 4,
 "nbformat_minor": 4
}
