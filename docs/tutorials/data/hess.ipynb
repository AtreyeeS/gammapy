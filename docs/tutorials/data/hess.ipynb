{
 "cells": [
  {
   "cell_type": "markdown",
   "metadata": {},
   "source": [
    "# H.E.S.S. with Gammapy\n",
    "\n",
    "[H.E.S.S.](https://www.mpi-hd.mpg.de/hfm/HESS/) is an array of gamma-ray telescopes located in Namibia. Gammapy is regularly used and fully supports H.E.S.S. high level data analysis, after export to the current [open data level 3 format](https://gamma-astro-data-formats.readthedocs.io/).\n",
    "\n",
    "The H.E.S.S. data is private, and H.E.S.S. analysis is mostly documented and discussed at https://hess-confluence.desy.de/ and in H.E.S.S.-internal communication channels. However, in 2018, a small sub-set of archival H.E.S.S. data was publicly released, called the [H.E.S.S. DL3 DR1](https://www.mpi-hd.mpg.de/hfm/HESS/pages/dl3-dr1/), the data level 3, data release number 1. This dataset is 50 MB in size and is used in many Gammapy analysis tutorials, and can be downloaded via [gammapy download](https://docs.gammapy.org/dev/scripts/index.html?highlight=download).\n",
    "\n",
    "This notebook is a quick introduction to this specific DR1 release. It briefly describes H.E.S.S. data and instrument responses and show a simple exploration of the data with the creation of theta-squared plot.\n",
    "\n",
    "H.E.S.S. members can find details on the DL3 FITS production on this [Confluence page](https://hess-confluence.desy.de/confluence/display/HESS/HESS+FITS+data) and access more detailed tutorials in this [repository](https://bitbucket.org/hess_software/hess-open-source-tools/src/master/)  \n",
    "\n",
    "## DL3 DR1\n",
    "\n",
    "This is how to access data and IRFs from the H.E.S.S. data level 3, data release 1."
   ]
  },
  {
   "cell_type": "code",
   "execution_count": null,
   "metadata": {
    "execution": {
     "iopub.execute_input": "2021-09-14T15:35:11.370678Z",
     "iopub.status.busy": "2021-09-14T15:35:11.369652Z",
     "iopub.status.idle": "2021-09-14T15:35:12.085658Z",
     "shell.execute_reply": "2021-09-14T15:35:12.085979Z"
    }
   },
   "outputs": [],
   "source": [
    "%matplotlib inline\n",
    "import matplotlib.pyplot as plt\n",
    "from astropy.coordinates import SkyCoord\n",
    "import astropy.units as u\n",
    "import numpy as np"
   ]
  },
  {
   "cell_type": "code",
   "execution_count": null,
   "metadata": {
    "execution": {
     "iopub.execute_input": "2021-09-14T15:35:12.088940Z",
     "iopub.status.busy": "2021-09-14T15:35:12.088582Z",
     "iopub.status.idle": "2021-09-14T15:35:12.602844Z",
     "shell.execute_reply": "2021-09-14T15:35:12.602428Z"
    }
   },
   "outputs": [],
   "source": [
    "from gammapy.data import DataStore\n",
    "from gammapy.maps import MapAxis, WcsGeom, Map\n",
    "from gammapy.makers.utils import make_theta_squared_table\n",
    "from gammapy.visualization import plot_theta_squared_table\n",
    "from gammapy.makers.utils import make_map_exposure_true_energy"
   ]
  },
  {
   "cell_type": "code",
   "execution_count": null,
   "metadata": {
    "execution": {
     "iopub.execute_input": "2021-09-14T15:35:12.605900Z",
     "iopub.status.busy": "2021-09-14T15:35:12.605517Z",
     "iopub.status.idle": "2021-09-14T15:35:12.635042Z",
     "shell.execute_reply": "2021-09-14T15:35:12.634619Z"
    }
   },
   "outputs": [],
   "source": [
    "data_store = DataStore.from_dir(\"$GAMMAPY_DATA/hess-dl3-dr1\")"
   ]
  },
  {
   "cell_type": "code",
   "execution_count": null,
   "metadata": {
    "execution": {
     "iopub.execute_input": "2021-09-14T15:35:12.638473Z",
     "iopub.status.busy": "2021-09-14T15:35:12.637940Z",
     "iopub.status.idle": "2021-09-14T15:35:12.641700Z",
     "shell.execute_reply": "2021-09-14T15:35:12.642071Z"
    }
   },
   "outputs": [],
   "source": [
    "data_store.info()"
   ]
  },
  {
   "cell_type": "code",
   "execution_count": null,
   "metadata": {
    "execution": {
     "iopub.execute_input": "2021-09-14T15:35:12.648322Z",
     "iopub.status.busy": "2021-09-14T15:35:12.647946Z",
     "iopub.status.idle": "2021-09-14T15:35:12.650236Z",
     "shell.execute_reply": "2021-09-14T15:35:12.649925Z"
    }
   },
   "outputs": [],
   "source": [
    "data_store.obs_table[:2][[\"OBS_ID\", \"DATE-OBS\", \"RA_PNT\", \"DEC_PNT\", \"OBJECT\"]]"
   ]
  },
  {
   "cell_type": "code",
   "execution_count": null,
   "metadata": {
    "execution": {
     "iopub.execute_input": "2021-09-14T15:35:12.654092Z",
     "iopub.status.busy": "2021-09-14T15:35:12.653730Z",
     "iopub.status.idle": "2021-09-14T15:35:12.655921Z",
     "shell.execute_reply": "2021-09-14T15:35:12.656237Z"
    }
   },
   "outputs": [],
   "source": [
    "obs = data_store.obs(23523)"
   ]
  },
  {
   "cell_type": "code",
   "execution_count": null,
   "metadata": {
    "execution": {
     "iopub.execute_input": "2021-09-14T15:35:12.658982Z",
     "iopub.status.busy": "2021-09-14T15:35:12.658621Z",
     "iopub.status.idle": "2021-09-14T15:35:13.767769Z",
     "shell.execute_reply": "2021-09-14T15:35:13.768141Z"
    }
   },
   "outputs": [],
   "source": [
    "obs.events.select_offset([0, 2.5] * u.deg).peek()"
   ]
  },
  {
   "cell_type": "code",
   "execution_count": null,
   "metadata": {
    "execution": {
     "iopub.execute_input": "2021-09-14T15:35:13.771221Z",
     "iopub.status.busy": "2021-09-14T15:35:13.770764Z",
     "iopub.status.idle": "2021-09-14T15:35:14.630295Z",
     "shell.execute_reply": "2021-09-14T15:35:14.630595Z"
    }
   },
   "outputs": [],
   "source": [
    "obs.aeff.peek()"
   ]
  },
  {
   "cell_type": "code",
   "execution_count": null,
   "metadata": {
    "execution": {
     "iopub.execute_input": "2021-09-14T15:35:14.633132Z",
     "iopub.status.busy": "2021-09-14T15:35:14.632773Z",
     "iopub.status.idle": "2021-09-14T15:35:15.557608Z",
     "shell.execute_reply": "2021-09-14T15:35:15.557987Z"
    }
   },
   "outputs": [],
   "source": [
    "obs.edisp.peek()"
   ]
  },
  {
   "cell_type": "code",
   "execution_count": null,
   "metadata": {
    "execution": {
     "iopub.execute_input": "2021-09-14T15:35:15.560708Z",
     "iopub.status.busy": "2021-09-14T15:35:15.560330Z",
     "iopub.status.idle": "2021-09-14T15:35:16.965961Z",
     "shell.execute_reply": "2021-09-14T15:35:16.966238Z"
    }
   },
   "outputs": [],
   "source": [
    "obs.psf.peek()"
   ]
  },
  {
   "cell_type": "code",
   "execution_count": null,
   "metadata": {
    "execution": {
     "iopub.execute_input": "2021-09-14T15:35:16.968822Z",
     "iopub.status.busy": "2021-09-14T15:35:16.968470Z",
     "iopub.status.idle": "2021-09-14T15:35:17.556301Z",
     "shell.execute_reply": "2021-09-14T15:35:17.555934Z"
    }
   },
   "outputs": [],
   "source": [
    "obs.bkg.to_2d().plot()"
   ]
  },
  {
   "cell_type": "markdown",
   "metadata": {},
   "source": [
    "## Theta squared event distribution\n",
    "As a quick look plot it can be helpful to plot the quadratic offset (theta squared) distribution of the events. "
   ]
  },
  {
   "cell_type": "code",
   "execution_count": null,
   "metadata": {
    "execution": {
     "iopub.execute_input": "2021-09-14T15:35:17.564678Z",
     "iopub.status.busy": "2021-09-14T15:35:17.564176Z",
     "iopub.status.idle": "2021-09-14T15:35:17.783966Z",
     "shell.execute_reply": "2021-09-14T15:35:17.783605Z"
    }
   },
   "outputs": [],
   "source": [
    "position = SkyCoord(ra=83.63, dec=22.01, unit=\"deg\", frame=\"icrs\")\n",
    "theta2_axis = MapAxis.from_bounds(0, 0.2, nbin=20, interp=\"lin\", unit=\"deg2\")\n",
    "\n",
    "observations = data_store.get_observations([23523, 23526])\n",
    "theta2_table = make_theta_squared_table(\n",
    "    observations=observations,\n",
    "    position=position,\n",
    "    theta_squared_axis=theta2_axis,\n",
    ")"
   ]
  },
  {
   "cell_type": "code",
   "execution_count": null,
   "metadata": {
    "execution": {
     "iopub.execute_input": "2021-09-14T15:35:17.815029Z",
     "iopub.status.busy": "2021-09-14T15:35:17.791103Z",
     "iopub.status.idle": "2021-09-14T15:35:18.060427Z",
     "shell.execute_reply": "2021-09-14T15:35:18.060117Z"
    },
    "nbsphinx-thumbnail": {
     "tooltip": "Explore H.E.S.S. event lists and IRFs."
    }
   },
   "outputs": [],
   "source": [
    "plt.figure(figsize=(10, 5))\n",
    "plot_theta_squared_table(theta2_table)"
   ]
  },
  {
   "cell_type": "markdown",
   "metadata": {},
   "source": [
    "## Livetime map\n",
    "\n",
    "Since the acceptance of the H.E.S.S. camera varies within the field of view, what is often interesting is not the simply the total number of hours a source was observed, but the on-axis equivalent number of hours. This we call here as the livetime map."
   ]
  },
  {
   "cell_type": "code",
   "execution_count": null,
   "metadata": {
    "execution": {
     "iopub.execute_input": "2021-09-14T15:35:18.065779Z",
     "iopub.status.busy": "2021-09-14T15:35:18.065434Z",
     "iopub.status.idle": "2021-09-14T15:35:18.067581Z",
     "shell.execute_reply": "2021-09-14T15:35:18.067212Z"
    }
   },
   "outputs": [],
   "source": [
    "def make_livetime_map(observations, geom, sum_over_axes=True):\n",
    "    \"\"\"Create an on-axis equivalent livetime map.\n",
    "    Simply computes the exposure map for each observation, divides by the on-axis \n",
    "    effective area to calculate the livetime for each observation, and then stacks them together\n",
    "    \n",
    "    Parameters\n",
    "    ----------\n",
    "    observations: `~gammapy.data.Observations`\n",
    "            List of observations to compute the livetime map for\n",
    "    geom: `~gammapy.maps.WcsGeom` \n",
    "        geometry to compute the livetime on. Must be defined in true energy\n",
    "    sum_over_axes: bool\n",
    "        return the energy integrated livetime\n",
    "    \n",
    "    Returns\n",
    "    --------\n",
    "    livetime: `~gammapy.maps.WcsNDMap`\n",
    "            A map of the on-axis exposure\n",
    "    \"\"\"\n",
    "\n",
    "    if sum_over_axes is True:\n",
    "        empty = Map.from_geom(geom.to_image())\n",
    "    else:\n",
    "        empty = Map.from_geom(geom)\n",
    "\n",
    "    for observation in observations:\n",
    "        exposure = make_map_exposure_true_energy(\n",
    "            pointing=observation.pointing_radec,\n",
    "            livetime=observation.observation_live_time_duration,\n",
    "            aeff=observation.aeff,\n",
    "            geom=geom,\n",
    "        )\n",
    "        livetime = exposure.copy()\n",
    "\n",
    "        on_axis = observation.aeff.evaluate(\n",
    "            offset=0.0 * u.deg, energy_true=geom.axes[\"energy_true\"].center\n",
    "        )\n",
    "\n",
    "        data = np.divide(\n",
    "            exposure.data, on_axis.reshape((on_axis.shape[0], 1, 1))\n",
    "        )\n",
    "        livetime.data = data.value\n",
    "        livetime.unit = (exposure.unit / on_axis.unit).to(u.hr)\n",
    "\n",
    "        if sum_over_axes is True:\n",
    "            livetime = livetime.sum_over_axes(keepdims=False)\n",
    "\n",
    "        empty.stack(livetime)\n",
    "\n",
    "    return empty"
   ]
  },
  {
   "cell_type": "markdown",
   "metadata": {},
   "source": [
    "In this example, we make a livetime map for the public MSH 1552 data. Take care that the `geom` must contain a `energy_true` axis"
   ]
  },
  {
   "cell_type": "code",
   "execution_count": null,
   "metadata": {
    "execution": {
     "iopub.execute_input": "2021-09-14T15:35:18.095439Z",
     "iopub.status.busy": "2021-09-14T15:35:18.095026Z",
     "iopub.status.idle": "2021-09-14T15:35:18.097158Z",
     "shell.execute_reply": "2021-09-14T15:35:18.097463Z"
    }
   },
   "outputs": [],
   "source": [
    "# Get the observations\n",
    "obs_id = data_store.obs_table[\"OBS_ID\"][\n",
    "    data_store.obs_table[\"OBJECT\"] == \"MSH 15-5-02\"\n",
    "]\n",
    "observations = data_store.get_observations(obs_id)\n",
    "print(len(observations))"
   ]
  },
  {
   "cell_type": "code",
   "execution_count": null,
   "metadata": {
    "execution": {
     "iopub.execute_input": "2021-09-14T15:35:18.102304Z",
     "iopub.status.busy": "2021-09-14T15:35:18.101956Z",
     "iopub.status.idle": "2021-09-14T15:35:18.103897Z",
     "shell.execute_reply": "2021-09-14T15:35:18.103548Z"
    }
   },
   "outputs": [],
   "source": [
    "# Make the geom\n",
    "source_pos = SkyCoord(228.32, -59.08, unit=\"deg\")\n",
    "energy_axis_true = MapAxis.from_energy_bounds(\n",
    "    0.5, 20, 10, unit=\"TeV\", name=\"energy_true\"\n",
    ")\n",
    "geom = WcsGeom.create(\n",
    "    skydir=source_pos,\n",
    "    binsz=0.02,\n",
    "    width=(2, 2),\n",
    "    frame=\"icrs\",\n",
    "    proj=\"CAR\",\n",
    "    axes=[energy_axis_true],\n",
    ")"
   ]
  },
  {
   "cell_type": "code",
   "execution_count": null,
   "metadata": {
    "execution": {
     "iopub.execute_input": "2021-09-14T15:35:18.107403Z",
     "iopub.status.busy": "2021-09-14T15:35:18.107042Z",
     "iopub.status.idle": "2021-09-14T15:35:19.532387Z",
     "shell.execute_reply": "2021-09-14T15:35:19.532759Z"
    }
   },
   "outputs": [],
   "source": [
    "# Plot the livetime map\n",
    "\n",
    "livetime_map = make_livetime_map(observations=observations, geom=geom)\n",
    "livetime_map.plot(add_cbar=True)"
   ]
  },
  {
   "cell_type": "markdown",
   "metadata": {},
   "source": [
    "## Exercises\n",
    "\n",
    "- Find the `OBS_ID` for the runs of the Crab nebula\n",
    "- Compute the expected number of background events in the whole RoI for `OBS_ID=23523` in the 1 TeV to 3 TeV energy band, from the background IRF."
   ]
  },
  {
   "cell_type": "markdown",
   "metadata": {},
   "source": [
    "## Next steps\n",
    "\n",
    "Now you know how to access and work with H.E.S.S. data. All other tutorials and documentation apply to H.E.S.S. and CTA or any other IACT that provides DL3 data and IRFs in the standard format."
   ]
  }
 ],
 "metadata": {
  "kernelspec": {
   "display_name": "Python 3",
   "language": "python",
   "name": "python3"
  },
  "language_info": {
   "codemirror_mode": {
    "name": "ipython",
    "version": 3
   },
   "file_extension": ".py",
   "mimetype": "text/x-python",
   "name": "python",
   "nbconvert_exporter": "python",
   "pygments_lexer": "ipython3",
   "version": "3.7.0"
  }
 },
 "nbformat": 4,
 "nbformat_minor": 4
}
