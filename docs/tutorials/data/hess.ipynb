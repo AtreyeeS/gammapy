{
 "cells": [
  {
   "cell_type": "markdown",
   "metadata": {},
   "source": [
    "# H.E.S.S. with Gammapy\n",
    "\n",
    "[H.E.S.S.](https://www.mpi-hd.mpg.de/hfm/HESS/) is an array of gamma-ray telescopes located in Namibia. Gammapy is regularly used and fully supports H.E.S.S. high level data analysis, after export to the current [open data level 3 format](https://gamma-astro-data-formats.readthedocs.io/).\n",
    "\n",
    "The H.E.S.S. data is private, and H.E.S.S. analysis is mostly documented and discussed at https://hess-confluence.desy.de/ and in H.E.S.S.-internal communication channels. However, in 2018, a small sub-set of archival H.E.S.S. data was publicly released, called the [H.E.S.S. DL3 DR1](https://www.mpi-hd.mpg.de/hfm/HESS/pages/dl3-dr1/), the data level 3, data release number 1. This dataset is 50 MB in size and is used in many Gammapy analysis tutorials, and can be downloaded via [gammapy download](https://docs.gammapy.org/dev/scripts/index.html?highlight=download).\n",
    "\n",
    "This notebook is a quick introduction to this specific DR1 release. It briefly describes H.E.S.S. data and instrument responses and show a simple exploration of the data with the creation of theta-squared plot.\n",
    "\n",
    "H.E.S.S. members can find details on the DL3 FITS production on this [Confluence page](https://hess-confluence.desy.de/confluence/display/HESS/HESS+FITS+data) and access more detailed tutorials in this [repository](https://bitbucket.org/hess_software/hess-open-source-tools/src/master/)  \n",
    "\n",
    "## DL3 DR1\n",
    "\n",
    "This is how to access data and IRFs from the H.E.S.S. data level 3, data release 1."
   ]
  },
  {
   "cell_type": "code",
   "execution_count": null,
   "metadata": {
    "execution": {
     "iopub.execute_input": "2021-09-24T08:04:11.197961Z",
     "iopub.status.busy": "2021-09-24T08:04:11.197342Z",
     "iopub.status.idle": "2021-09-24T08:04:11.974390Z",
     "shell.execute_reply": "2021-09-24T08:04:11.974704Z"
    }
   },
   "outputs": [],
   "source": [
    "%matplotlib inline\n",
    "import matplotlib.pyplot as plt\n",
    "from astropy.coordinates import SkyCoord\n",
    "import astropy.units as u\n",
    "import numpy as np"
   ]
  },
  {
   "cell_type": "code",
   "execution_count": null,
   "metadata": {
    "execution": {
     "iopub.execute_input": "2021-09-24T08:04:11.977934Z",
     "iopub.status.busy": "2021-09-24T08:04:11.977449Z",
     "iopub.status.idle": "2021-09-24T08:04:12.565972Z",
     "shell.execute_reply": "2021-09-24T08:04:12.565552Z"
    }
   },
   "outputs": [],
   "source": [
    "from gammapy.data import DataStore\n",
    "from gammapy.maps import MapAxis, WcsGeom, Map\n",
    "from gammapy.makers.utils import make_theta_squared_table\n",
    "from gammapy.visualization import plot_theta_squared_table\n",
    "from gammapy.makers import MapDatasetMaker"
   ]
  },
  {
   "cell_type": "code",
   "execution_count": null,
   "metadata": {
    "execution": {
     "iopub.execute_input": "2021-09-24T08:04:12.569033Z",
     "iopub.status.busy": "2021-09-24T08:04:12.568647Z",
     "iopub.status.idle": "2021-09-24T08:04:12.602926Z",
     "shell.execute_reply": "2021-09-24T08:04:12.602538Z"
    }
   },
   "outputs": [],
   "source": [
    "data_store = DataStore.from_dir(\"$GAMMAPY_DATA/hess-dl3-dr1\")"
   ]
  },
  {
   "cell_type": "code",
   "execution_count": null,
   "metadata": {
    "execution": {
     "iopub.execute_input": "2021-09-24T08:04:12.605964Z",
     "iopub.status.busy": "2021-09-24T08:04:12.605593Z",
     "iopub.status.idle": "2021-09-24T08:04:12.609008Z",
     "shell.execute_reply": "2021-09-24T08:04:12.609307Z"
    }
   },
   "outputs": [],
   "source": [
    "data_store.info()"
   ]
  },
  {
   "cell_type": "code",
   "execution_count": null,
   "metadata": {
    "execution": {
     "iopub.execute_input": "2021-09-24T08:04:12.615842Z",
     "iopub.status.busy": "2021-09-24T08:04:12.615446Z",
     "iopub.status.idle": "2021-09-24T08:04:12.617686Z",
     "shell.execute_reply": "2021-09-24T08:04:12.617347Z"
    }
   },
   "outputs": [],
   "source": [
    "data_store.obs_table[:2][[\"OBS_ID\", \"DATE-OBS\", \"RA_PNT\", \"DEC_PNT\", \"OBJECT\"]]"
   ]
  },
  {
   "cell_type": "code",
   "execution_count": null,
   "metadata": {
    "execution": {
     "iopub.execute_input": "2021-09-24T08:04:12.622335Z",
     "iopub.status.busy": "2021-09-24T08:04:12.621940Z",
     "iopub.status.idle": "2021-09-24T08:04:12.623905Z",
     "shell.execute_reply": "2021-09-24T08:04:12.623576Z"
    }
   },
   "outputs": [],
   "source": [
    "obs = data_store.obs(23523)"
   ]
  },
  {
   "cell_type": "code",
   "execution_count": null,
   "metadata": {
    "execution": {
     "iopub.execute_input": "2021-09-24T08:04:12.626380Z",
     "iopub.status.busy": "2021-09-24T08:04:12.625985Z",
     "iopub.status.idle": "2021-09-24T08:04:13.970530Z",
     "shell.execute_reply": "2021-09-24T08:04:13.970915Z"
    }
   },
   "outputs": [],
   "source": [
    "obs.events.select_offset([0, 2.5] * u.deg).peek()"
   ]
  },
  {
   "cell_type": "code",
   "execution_count": null,
   "metadata": {
    "execution": {
     "iopub.execute_input": "2021-09-24T08:04:13.974206Z",
     "iopub.status.busy": "2021-09-24T08:04:13.973739Z",
     "iopub.status.idle": "2021-09-24T08:04:14.963977Z",
     "shell.execute_reply": "2021-09-24T08:04:14.963577Z"
    }
   },
   "outputs": [],
   "source": [
    "obs.aeff.peek()"
   ]
  },
  {
   "cell_type": "code",
   "execution_count": null,
   "metadata": {
    "execution": {
     "iopub.execute_input": "2021-09-24T08:04:14.966511Z",
     "iopub.status.busy": "2021-09-24T08:04:14.966129Z",
     "iopub.status.idle": "2021-09-24T08:04:16.017432Z",
     "shell.execute_reply": "2021-09-24T08:04:16.017730Z"
    }
   },
   "outputs": [],
   "source": [
    "obs.edisp.peek()"
   ]
  },
  {
   "cell_type": "code",
   "execution_count": null,
   "metadata": {
    "execution": {
     "iopub.execute_input": "2021-09-24T08:04:16.020205Z",
     "iopub.status.busy": "2021-09-24T08:04:16.019837Z",
     "iopub.status.idle": "2021-09-24T08:04:17.499109Z",
     "shell.execute_reply": "2021-09-24T08:04:17.498733Z"
    }
   },
   "outputs": [],
   "source": [
    "obs.psf.peek()"
   ]
  },
  {
   "cell_type": "code",
   "execution_count": null,
   "metadata": {
    "execution": {
     "iopub.execute_input": "2021-09-24T08:04:17.501668Z",
     "iopub.status.busy": "2021-09-24T08:04:17.501307Z",
     "iopub.status.idle": "2021-09-24T08:04:18.144070Z",
     "shell.execute_reply": "2021-09-24T08:04:18.143729Z"
    }
   },
   "outputs": [],
   "source": [
    "obs.bkg.to_2d().plot()"
   ]
  },
  {
   "cell_type": "markdown",
   "metadata": {},
   "source": [
    "## Theta squared event distribution\n",
    "As a quick look plot it can be helpful to plot the quadratic offset (theta squared) distribution of the events. "
   ]
  },
  {
   "cell_type": "code",
   "execution_count": null,
   "metadata": {
    "execution": {
     "iopub.execute_input": "2021-09-24T08:04:18.152324Z",
     "iopub.status.busy": "2021-09-24T08:04:18.151939Z",
     "iopub.status.idle": "2021-09-24T08:04:18.400061Z",
     "shell.execute_reply": "2021-09-24T08:04:18.399711Z"
    }
   },
   "outputs": [],
   "source": [
    "position = SkyCoord(ra=83.63, dec=22.01, unit=\"deg\", frame=\"icrs\")\n",
    "theta2_axis = MapAxis.from_bounds(0, 0.2, nbin=20, interp=\"lin\", unit=\"deg2\")\n",
    "\n",
    "observations = data_store.get_observations([23523, 23526])\n",
    "theta2_table = make_theta_squared_table(\n",
    "    observations=observations,\n",
    "    position=position,\n",
    "    theta_squared_axis=theta2_axis,\n",
    ")"
   ]
  },
  {
   "cell_type": "code",
   "execution_count": null,
   "metadata": {
    "execution": {
     "iopub.execute_input": "2021-09-24T08:04:18.519673Z",
     "iopub.status.busy": "2021-09-24T08:04:18.435962Z",
     "iopub.status.idle": "2021-09-24T08:04:18.698205Z",
     "shell.execute_reply": "2021-09-24T08:04:18.697811Z"
    },
    "nbsphinx-thumbnail": {
     "tooltip": "Explore H.E.S.S. event lists and IRFs."
    }
   },
   "outputs": [],
   "source": [
    "plt.figure(figsize=(10, 5))\n",
    "plot_theta_squared_table(theta2_table)"
   ]
  },
  {
   "cell_type": "markdown",
   "metadata": {},
   "source": [
    "## Livetime map\n",
    "\n",
    "Since the acceptance of the H.E.S.S. camera varies within the field of view, what is often interesting is not the simply the total number of hours a source was observed, but the on-axis equivalent number of hours. We calculated the same for the MSH 1552 runs here."
   ]
  },
  {
   "cell_type": "code",
   "execution_count": null,
   "metadata": {
    "execution": {
     "iopub.execute_input": "2021-09-24T08:04:18.726175Z",
     "iopub.status.busy": "2021-09-24T08:04:18.725628Z",
     "iopub.status.idle": "2021-09-24T08:04:18.728761Z",
     "shell.execute_reply": "2021-09-24T08:04:18.729073Z"
    }
   },
   "outputs": [],
   "source": [
    "# Get the observations\n",
    "obs_id = data_store.obs_table[\"OBS_ID\"][\n",
    "    data_store.obs_table[\"OBJECT\"] == \"MSH 15-5-02\"\n",
    "]\n",
    "observations = data_store.get_observations(obs_id)\n",
    "print(len(observations))"
   ]
  },
  {
   "cell_type": "code",
   "execution_count": null,
   "metadata": {
    "execution": {
     "iopub.execute_input": "2021-09-24T08:04:18.731731Z",
     "iopub.status.busy": "2021-09-24T08:04:18.731364Z",
     "iopub.status.idle": "2021-09-24T08:04:18.733348Z",
     "shell.execute_reply": "2021-09-24T08:04:18.733040Z"
    }
   },
   "outputs": [],
   "source": [
    "# Define an energy range\n",
    "energy_min = 100 * u.GeV\n",
    "energy_max = 10.0 * u.TeV"
   ]
  },
  {
   "cell_type": "code",
   "execution_count": null,
   "metadata": {
    "execution": {
     "iopub.execute_input": "2021-09-24T08:04:18.738245Z",
     "iopub.status.busy": "2021-09-24T08:04:18.737873Z",
     "iopub.status.idle": "2021-09-24T08:04:18.739370Z",
     "shell.execute_reply": "2021-09-24T08:04:18.739665Z"
    }
   },
   "outputs": [],
   "source": [
    "# define the geom\n",
    "source_pos = SkyCoord(228.32, -59.08, unit=\"deg\")\n",
    "energy_axis_true = MapAxis.from_energy_bounds(\n",
    "    energy_min, energy_max, nbin=1, name=\"energy_true\"\n",
    ")\n",
    "geom = WcsGeom.create(\n",
    "    skydir=source_pos,\n",
    "    binsz=0.02,\n",
    "    width=(6, 6),\n",
    "    frame=\"icrs\",\n",
    "    proj=\"CAR\",\n",
    "    axes=[energy_axis_true],\n",
    ")"
   ]
  },
  {
   "cell_type": "code",
   "execution_count": null,
   "metadata": {
    "execution": {
     "iopub.execute_input": "2021-09-24T08:04:18.742981Z",
     "iopub.status.busy": "2021-09-24T08:04:18.742616Z",
     "iopub.status.idle": "2021-09-24T08:04:20.422449Z",
     "shell.execute_reply": "2021-09-24T08:04:20.422034Z"
    }
   },
   "outputs": [],
   "source": [
    "# compute\n",
    "livetime = Map.from_geom(geom, unit=u.hr)\n",
    "for obs in observations:\n",
    "    exposure = MapDatasetMaker.make_exposure(geom=geom, observation=obs)\n",
    "    on_axis = obs.aeff.evaluate(\n",
    "        offset=0.0 * u.deg, energy_true=geom.axes[\"energy_true\"].center\n",
    "    )\n",
    "    on_axis = on_axis.reshape((on_axis.shape[0], 1, 1))\n",
    "    lv_obs = exposure / on_axis\n",
    "    livetime.stack(lv_obs)"
   ]
  },
  {
   "cell_type": "code",
   "execution_count": null,
   "metadata": {
    "execution": {
     "iopub.execute_input": "2021-09-24T08:04:20.425911Z",
     "iopub.status.busy": "2021-09-24T08:04:20.425545Z",
     "iopub.status.idle": "2021-09-24T08:04:20.880297Z",
     "shell.execute_reply": "2021-09-24T08:04:20.880700Z"
    }
   },
   "outputs": [],
   "source": [
    "# Plot\n",
    "fig, ax, _ = livetime.plot(add_cbar=True)\n",
    "\n",
    "# Add the pointing position on top\n",
    "for obs in observations:\n",
    "    ax.plot(\n",
    "        obs.pointing_radec.to_pixel(wcs=ax.wcs)[0],\n",
    "        obs.pointing_radec.to_pixel(wcs=ax.wcs)[1],\n",
    "        \"+\",\n",
    "        color=\"black\",\n",
    "    )"
   ]
  },
  {
   "cell_type": "markdown",
   "metadata": {},
   "source": [
    "## Exercises\n",
    "\n",
    "- Find the `OBS_ID` for the runs of the Crab nebula\n",
    "- Compute the expected number of background events in the whole RoI for `OBS_ID=23523` in the 1 TeV to 3 TeV energy band, from the background IRF."
   ]
  },
  {
   "cell_type": "markdown",
   "metadata": {},
   "source": [
    "## Next steps\n",
    "\n",
    "Now you know how to access and work with H.E.S.S. data. All other tutorials and documentation apply to H.E.S.S. and CTA or any other IACT that provides DL3 data and IRFs in the standard format."
   ]
  }
 ],
 "metadata": {
  "kernelspec": {
   "display_name": "Python 3",
   "language": "python",
   "name": "python3"
  },
  "language_info": {
   "codemirror_mode": {
    "name": "ipython",
    "version": 3
   },
   "file_extension": ".py",
   "mimetype": "text/x-python",
   "name": "python",
   "nbconvert_exporter": "python",
   "pygments_lexer": "ipython3",
   "version": "3.7.0"
  }
 },
 "nbformat": 4,
 "nbformat_minor": 4
}
